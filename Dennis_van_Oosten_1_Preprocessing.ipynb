{
 "cells": [
  {
   "cell_type": "markdown",
   "metadata": {},
   "source": [
    "# 1. Preprocessing script\n",
    "Firstly, I tried multiple ways of preprocessing the imported data. Later, I adapted the code to a method with variables with which you can easily choose which preprocessing method(s) you want to apply. This piece of code was later put in a class so every group member could use it for preprocessing."
   ]
  },
  {
   "cell_type": "code",
   "execution_count": 13,
   "metadata": {},
   "outputs": [],
   "source": [
    "import pandas as pd"
   ]
  },
  {
   "cell_type": "markdown",
   "metadata": {},
   "source": [
    "## Import the data\n",
    "This is a kaggle dataset that TNO said we could practice on. The data would be similar to their scraped dark web content."
   ]
  },
  {
   "cell_type": "code",
   "execution_count": 14,
   "metadata": {
    "scrolled": true
   },
   "outputs": [
    {
     "data": {
      "text/html": [
       "<div>\n",
       "<style scoped>\n",
       "    .dataframe tbody tr th:only-of-type {\n",
       "        vertical-align: middle;\n",
       "    }\n",
       "\n",
       "    .dataframe tbody tr th {\n",
       "        vertical-align: top;\n",
       "    }\n",
       "\n",
       "    .dataframe thead th {\n",
       "        text-align: right;\n",
       "    }\n",
       "</style>\n",
       "<table border=\"1\" class=\"dataframe\">\n",
       "  <thead>\n",
       "    <tr style=\"text-align: right;\">\n",
       "      <th></th>\n",
       "      <th>Vendor</th>\n",
       "      <th>Category</th>\n",
       "      <th>Item</th>\n",
       "      <th>Item Description</th>\n",
       "      <th>Price</th>\n",
       "      <th>Origin</th>\n",
       "      <th>Destination</th>\n",
       "      <th>Rating</th>\n",
       "      <th>Remarks</th>\n",
       "    </tr>\n",
       "  </thead>\n",
       "  <tbody>\n",
       "    <tr>\n",
       "      <th>0</th>\n",
       "      <td>CheapPayTV</td>\n",
       "      <td>Services/Hacking</td>\n",
       "      <td>12 Month HuluPlus gift Code</td>\n",
       "      <td>12-Month HuluPlus Codes for $25. They are wort...</td>\n",
       "      <td>0.05027025666666667 BTC</td>\n",
       "      <td>Torland</td>\n",
       "      <td>NaN</td>\n",
       "      <td>4.96/5</td>\n",
       "      <td>NaN</td>\n",
       "    </tr>\n",
       "    <tr>\n",
       "      <th>1</th>\n",
       "      <td>CheapPayTV</td>\n",
       "      <td>Services/Hacking</td>\n",
       "      <td>Pay TV Sky UK  Sky Germany HD TV  and much mor...</td>\n",
       "      <td>Hi we offer a World Wide CCcam  Service for En...</td>\n",
       "      <td>0.152419585 BTC</td>\n",
       "      <td>Torland</td>\n",
       "      <td>NaN</td>\n",
       "      <td>4.96/5</td>\n",
       "      <td>NaN</td>\n",
       "    </tr>\n",
       "    <tr>\n",
       "      <th>2</th>\n",
       "      <td>KryptykOG</td>\n",
       "      <td>Services/Hacking</td>\n",
       "      <td>OFFICIAL Account Creator Extreme 4.2</td>\n",
       "      <td>Tagged Submission Fix Bebo Submission Fix Adju...</td>\n",
       "      <td>0.007000000000000005 BTC</td>\n",
       "      <td>Torland</td>\n",
       "      <td>NaN</td>\n",
       "      <td>4.93/5</td>\n",
       "      <td>NaN</td>\n",
       "    </tr>\n",
       "    <tr>\n",
       "      <th>3</th>\n",
       "      <td>cyberzen</td>\n",
       "      <td>Services/Hacking</td>\n",
       "      <td>VPN &gt; TOR &gt; SOCK TUTORIAL</td>\n",
       "      <td>How to setup a VPN &gt; TOR &gt; SOCK super safe enc...</td>\n",
       "      <td>0.019016783532494728 BTC</td>\n",
       "      <td>NaN</td>\n",
       "      <td>NaN</td>\n",
       "      <td>4.89/5</td>\n",
       "      <td>NaN</td>\n",
       "    </tr>\n",
       "    <tr>\n",
       "      <th>4</th>\n",
       "      <td>businessdude</td>\n",
       "      <td>Services/Hacking</td>\n",
       "      <td>Facebook hacking guide</td>\n",
       "      <td>.  This guide will teach you how to hack Faceb...</td>\n",
       "      <td>0.062018073963963936 BTC</td>\n",
       "      <td>Torland</td>\n",
       "      <td>NaN</td>\n",
       "      <td>4.88/5</td>\n",
       "      <td>NaN</td>\n",
       "    </tr>\n",
       "  </tbody>\n",
       "</table>\n",
       "</div>"
      ],
      "text/plain": [
       "         Vendor          Category  \\\n",
       "0    CheapPayTV  Services/Hacking   \n",
       "1    CheapPayTV  Services/Hacking   \n",
       "2     KryptykOG  Services/Hacking   \n",
       "3      cyberzen  Services/Hacking   \n",
       "4  businessdude  Services/Hacking   \n",
       "\n",
       "                                                Item  \\\n",
       "0                        12 Month HuluPlus gift Code   \n",
       "1  Pay TV Sky UK  Sky Germany HD TV  and much mor...   \n",
       "2               OFFICIAL Account Creator Extreme 4.2   \n",
       "3                          VPN > TOR > SOCK TUTORIAL   \n",
       "4                             Facebook hacking guide   \n",
       "\n",
       "                                    Item Description  \\\n",
       "0  12-Month HuluPlus Codes for $25. They are wort...   \n",
       "1  Hi we offer a World Wide CCcam  Service for En...   \n",
       "2  Tagged Submission Fix Bebo Submission Fix Adju...   \n",
       "3  How to setup a VPN > TOR > SOCK super safe enc...   \n",
       "4  .  This guide will teach you how to hack Faceb...   \n",
       "\n",
       "                      Price   Origin  Destination  Rating  Remarks  \n",
       "0   0.05027025666666667 BTC  Torland          NaN  4.96/5      NaN  \n",
       "1           0.152419585 BTC  Torland          NaN  4.96/5      NaN  \n",
       "2  0.007000000000000005 BTC  Torland          NaN  4.93/5      NaN  \n",
       "3  0.019016783532494728 BTC      NaN          NaN  4.89/5      NaN  \n",
       "4  0.062018073963963936 BTC  Torland          NaN  4.88/5      NaN  "
      ]
     },
     "execution_count": 14,
     "metadata": {},
     "output_type": "execute_result"
    }
   ],
   "source": [
    "data = pd.read_csv('darkweb/data/agora.csv')\n",
    "data.head()"
   ]
  },
  {
   "cell_type": "markdown",
   "metadata": {},
   "source": [
    "## Extract the data we need\n",
    "We seperate and create a string of the description (feature)."
   ]
  },
  {
   "cell_type": "code",
   "execution_count": 16,
   "metadata": {},
   "outputs": [
    {
     "data": {
      "text/plain": [
       "0    12 Month HuluPlus gift Code 12-Month HuluPlus ...\n",
       "1    Pay TV Sky UK  Sky Germany HD TV  and much mor...\n",
       "2    OFFICIAL Account Creator Extreme 4.2 Tagged Su...\n",
       "3    VPN > TOR > SOCK TUTORIAL How to setup a VPN >...\n",
       "4    Facebook hacking guide .  This guide will teac...\n",
       "dtype: object"
      ]
     },
     "execution_count": 16,
     "metadata": {},
     "output_type": "execute_result"
    }
   ],
   "source": [
    "descriptions = data[' Item'] + \" \" + data[' Item Description']\n",
    "descriptions.head()"
   ]
  },
  {
   "cell_type": "markdown",
   "metadata": {},
   "source": [
    "## The preprocessing method\n",
    "The preprocess method takes in one description and several parameters and returns the preprocessed description. In this case, we process the first 100 descriptions. The result of the script are the preprocessed features (descriptions)."
   ]
  },
  {
   "cell_type": "code",
   "execution_count": 17,
   "metadata": {
    "scrolled": true
   },
   "outputs": [
    {
     "data": {
      "text/plain": [
       "0     month huluplu gift code month huluplu code wor...\n",
       "1     pay tv sky uk sky germani hd tv much cccam ser...\n",
       "2     offici account creator extrem tag submiss fix ...\n",
       "3     vpn tor sock tutori setup vpn tor sock super s...\n",
       "4     facebook hack guid guid teach hack facebook ac...\n",
       "5     ddo attack servic new servic avail take websit...\n",
       "6     atm hack tutori step step guid manual hack atm...\n",
       "7     callsm verif servic need regist account sm ver...\n",
       "8     mac window address changer come complet databa...\n",
       "9     wifi hack hack wepwpawpa glori wp hack wpa wif...\n",
       "10    paytv via internet hd iptv box month subscript...\n",
       "11                       setup botnet guid setup botnet\n",
       "12    proxi softwar login proxi day list provid soft...\n",
       "13    credit card info cvvcvv provid credit card inf...\n",
       "14    pay tv sky uk sky germani hd tv much morecccam...\n",
       "15    look pay tv iptv cccam resel hi lok resel ccca...\n",
       "16    hack ebook collect say titl ebook collect hack...\n",
       "17    masterkey xtremeau masterkey extremeto open ma...\n",
       "18    readi run hd receiv paytv month includ get hd ...\n",
       "19    silk road agora money make method guid includ ...\n",
       "20    cooki flash cooki paypal ebay cleaner one clic...\n",
       "21                       anonym test servic anonym test\n",
       "22    bypass sm phone verif easi without sim card by...\n",
       "23    learn anonym complet anonym leav trace must pe...\n",
       "24               card cc paypal tutori best card tutori\n",
       "25    make minut day make minut day referr work unsa...\n",
       "26    easi paypalcvv cashout guid everybodi want kno...\n",
       "27    mac address changer softwar mac os chang mac a...\n",
       "28    netflix account sell netflix account price per...\n",
       "29          custom nd hotelflight penthous suit la vega\n",
       "                            ...                        \n",
       "70    pandora market activ vendor accountshalf price...\n",
       "71    extra servic custom price adjust buy send nw n...\n",
       "72    intern dummi letter want dummi letter add comm...\n",
       "73    privat courier privat anonym courier servic vi...\n",
       "74    facebook follow easi way get famou friend foll...\n",
       "75    paypal keep paypal activ avoid risk closur gua...\n",
       "76    padlock open piec comb pick set open padlock w...\n",
       "77    fire brigad masterkey set use tool box unlock ...\n",
       "78    track servic signatur track servic signatur wa...\n",
       "79    youtub like famou ever upload video youtub har...\n",
       "80    sound play get famou ever upload music soundcl...\n",
       "81                                          huckl hotel\n",
       "82    paypal ebay cashout coach session best invest ...\n",
       "83    someth sell got idea got idea make money somet...\n",
       "84    free vpn window mac linux use vpn servic year ...\n",
       "85    hot girl write boob anyth want special list te...\n",
       "86    twitter retweet easi way get famou friend retw...\n",
       "87    express mail servic plz alway read main profil...\n",
       "88    cc lockpick kit credit card lock pick new cred...\n",
       "89    drwhite darknet comput consult servic darknet ...\n",
       "90                                      tubbymora hotel\n",
       "91    prioriti mail ship auctionlist peopl paid ship...\n",
       "92                       use sock set proxi server work\n",
       "93         uk reship extra fee uk reship eu hard import\n",
       "94    french facebook account mail access facebook a...\n",
       "95    piec masterkey bundl great select high qualiti...\n",
       "96    netflix lifetim account account lifetim someth...\n",
       "97    cum camera hot chick method design real life o...\n",
       "98    firefox setup extrem privaci firefox setup extrem\n",
       "99    top usa credit profil ssn dob phone etc send e...\n",
       "Length: 100, dtype: object"
      ]
     },
     "execution_count": 17,
     "metadata": {},
     "output_type": "execute_result"
    }
   ],
   "source": [
    "# Imports\n",
    "from nltk.stem import PorterStemmer\n",
    "from nltk.stem import WordNetLemmatizer\n",
    "from nltk.corpus import stopwords\n",
    "from nltk.tokenize import word_tokenize\n",
    "from collections import Counter\n",
    "from itertools import dropwhile\n",
    "import string\n",
    "\n",
    "# Utilities\n",
    "stop_words_dictionary = set(map(lambda x: x.lower(), stopwords.words(\"english\")))\n",
    "strip_punctuation_translator = str.maketrans(\"\", \"\", string.punctuation)\n",
    "strip_numbers_translator = str.maketrans(\"\", \"\", string.digits)\n",
    "stem = PorterStemmer().stem\n",
    "lemmatize = WordNetLemmatizer().lemmatize\n",
    "\n",
    "# Preprocessing method\n",
    "# input: a description/sentence of type \"string\"\n",
    "def preprocess(description, lower_case=True, punctuation=True, numbers=True, unicode=True, cut_off=True, stop_words=True, stemming=True, lemmatizing=False, min_word_length=-1, max_word_length=-1):    \n",
    "    if lower_case:\n",
    "        description = description.lower()\n",
    "    if punctuation:\n",
    "        description = description.translate(strip_punctuation_translator).strip()\n",
    "    if numbers:\n",
    "        description = description.translate(strip_numbers_translator).strip()\n",
    "    if unicode:\n",
    "        description = description.encode('ascii', 'ignore').decode(\"utf-8\")\n",
    "    if cut_off:\n",
    "        word_tokens = word_tokenize(description)\n",
    "        description = \" \".join(word_tokens[:-1])\n",
    "    if stop_words:\n",
    "        word_tokens = word_tokenize(description)\n",
    "        delete_stop_words = [w for w in word_tokens if not w in stop_words_dictionary]\n",
    "        description = \" \".join(delete_stop_words)\n",
    "    if stemming:\n",
    "        word_tokens = word_tokenize(description)\n",
    "        stemmed = [stem(w) for w in word_tokens]\n",
    "        description = \" \".join(stemmed)\n",
    "    if lemmatizing:\n",
    "        word_tokens = word_tokenize(description)\n",
    "        lemmatized = [lemmatize(w) for w in word_tokens]\n",
    "        description = \" \".join(lemmatized)\n",
    "    if min_word_length is not -1:\n",
    "        word_tokens = word_tokenize(description)\n",
    "        min_sized_words = [w for w in word_tokens if len(w) >= min_word_length]\n",
    "        description = \" \".join(min_sized_words)\n",
    "    if max_word_length is not -1:\n",
    "        word_tokens = word_tokenize(description)\n",
    "        max_sized_words = [w for w in word_tokens if len(w) <= max_word_length]\n",
    "        description = \" \".join(max_sized_words)\n",
    "    return description\n",
    "\n",
    "aantal = 100\n",
    "\n",
    "descriptions_preprocessed = descriptions[:aantal].apply(lambda d: preprocess(str(d)))\n",
    "descriptions_preprocessed"
   ]
  },
  {
   "cell_type": "code",
   "execution_count": null,
   "metadata": {},
   "outputs": [],
   "source": []
  }
 ],
 "metadata": {
  "kernelspec": {
   "display_name": "Python 3",
   "language": "python",
   "name": "python3"
  },
  "language_info": {
   "codemirror_mode": {
    "name": "ipython",
    "version": 3
   },
   "file_extension": ".py",
   "mimetype": "text/x-python",
   "name": "python",
   "nbconvert_exporter": "python",
   "pygments_lexer": "ipython3",
   "version": "3.6.8"
  }
 },
 "nbformat": 4,
 "nbformat_minor": 2
}
