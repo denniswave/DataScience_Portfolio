{
 "cells": [
  {
   "cell_type": "markdown",
   "metadata": {},
   "source": [
    "# 26. Balancing by copying - TFIDF\n",
    "We want to try to balance the dataset in a different way to see if we get better results. Instead of having an unbalanced main categories set, we want to copy items from categories that are smaller.\n",
    "\n",
    "## Preprocessing"
   ]
  },
  {
   "cell_type": "code",
   "execution_count": 48,
   "metadata": {},
   "outputs": [
    {
     "data": {
      "text/html": [
       "<div>\n",
       "<style scoped>\n",
       "    .dataframe tbody tr th:only-of-type {\n",
       "        vertical-align: middle;\n",
       "    }\n",
       "\n",
       "    .dataframe tbody tr th {\n",
       "        vertical-align: top;\n",
       "    }\n",
       "\n",
       "    .dataframe thead th {\n",
       "        text-align: right;\n",
       "    }\n",
       "</style>\n",
       "<table border=\"1\" class=\"dataframe\">\n",
       "  <thead>\n",
       "    <tr style=\"text-align: right;\">\n",
       "      <th></th>\n",
       "      <th>Category</th>\n",
       "      <th>Item Description</th>\n",
       "      <th>category_id</th>\n",
       "    </tr>\n",
       "  </thead>\n",
       "  <tbody>\n",
       "    <tr>\n",
       "      <th>0</th>\n",
       "      <td>Services</td>\n",
       "      <td>month huluplu gift code month huluplu code wor...</td>\n",
       "      <td>0</td>\n",
       "    </tr>\n",
       "    <tr>\n",
       "      <th>1</th>\n",
       "      <td>Services</td>\n",
       "      <td>pay tv sky uk sky germani hd tv much cccam ser...</td>\n",
       "      <td>0</td>\n",
       "    </tr>\n",
       "    <tr>\n",
       "      <th>2</th>\n",
       "      <td>Services</td>\n",
       "      <td>offici account creator extrem tag submiss fix ...</td>\n",
       "      <td>0</td>\n",
       "    </tr>\n",
       "    <tr>\n",
       "      <th>3</th>\n",
       "      <td>Services</td>\n",
       "      <td>vpn tor sock tutori setup vpn tor sock super s...</td>\n",
       "      <td>0</td>\n",
       "    </tr>\n",
       "    <tr>\n",
       "      <th>4</th>\n",
       "      <td>Services</td>\n",
       "      <td>facebook hack guid guid teach hack facebook ac...</td>\n",
       "      <td>0</td>\n",
       "    </tr>\n",
       "    <tr>\n",
       "      <th>...</th>\n",
       "      <td>...</td>\n",
       "      <td>...</td>\n",
       "      <td>...</td>\n",
       "    </tr>\n",
       "    <tr>\n",
       "      <th>109585</th>\n",
       "      <td>Drugs</td>\n",
       "      <td>gr purifi opium list gramm redefin opium pefec...</td>\n",
       "      <td>1</td>\n",
       "    </tr>\n",
       "    <tr>\n",
       "      <th>109586</th>\n",
       "      <td>Weapons</td>\n",
       "      <td>ship ticket order ship one gun bought must bou...</td>\n",
       "      <td>11</td>\n",
       "    </tr>\n",
       "    <tr>\n",
       "      <th>109587</th>\n",
       "      <td>Drugs</td>\n",
       "      <td>gram white afghani heroin full escrow gram whi...</td>\n",
       "      <td>1</td>\n",
       "    </tr>\n",
       "    <tr>\n",
       "      <th>109588</th>\n",
       "      <td>Drugs</td>\n",
       "      <td>gram white afghani heroin full escrow gram whi...</td>\n",
       "      <td>1</td>\n",
       "    </tr>\n",
       "    <tr>\n",
       "      <th>109589</th>\n",
       "      <td>Drugs</td>\n",
       "      <td>heroin stamp bag pc bundl heroin stamp bag pc ...</td>\n",
       "      <td>1</td>\n",
       "    </tr>\n",
       "  </tbody>\n",
       "</table>\n",
       "<p>109563 rows × 3 columns</p>\n",
       "</div>"
      ],
      "text/plain": [
       "        Category                                   Item Description  \\\n",
       "0       Services  month huluplu gift code month huluplu code wor...   \n",
       "1       Services  pay tv sky uk sky germani hd tv much cccam ser...   \n",
       "2       Services  offici account creator extrem tag submiss fix ...   \n",
       "3       Services  vpn tor sock tutori setup vpn tor sock super s...   \n",
       "4       Services  facebook hack guid guid teach hack facebook ac...   \n",
       "...          ...                                                ...   \n",
       "109585     Drugs  gr purifi opium list gramm redefin opium pefec...   \n",
       "109586   Weapons  ship ticket order ship one gun bought must bou...   \n",
       "109587     Drugs  gram white afghani heroin full escrow gram whi...   \n",
       "109588     Drugs  gram white afghani heroin full escrow gram whi...   \n",
       "109589     Drugs  heroin stamp bag pc bundl heroin stamp bag pc ...   \n",
       "\n",
       "        category_id  \n",
       "0                 0  \n",
       "1                 0  \n",
       "2                 0  \n",
       "3                 0  \n",
       "4                 0  \n",
       "...             ...  \n",
       "109585            1  \n",
       "109586           11  \n",
       "109587            1  \n",
       "109588            1  \n",
       "109589            1  \n",
       "\n",
       "[109563 rows x 3 columns]"
      ]
     },
     "execution_count": 48,
     "metadata": {},
     "output_type": "execute_result"
    }
   ],
   "source": [
    "import pandas as pd\n",
    "from preprocessing import PreProcessor\n",
    "\n",
    "pp = PreProcessor()\n",
    "\n",
    "df = pd.read_csv('../Data/Structured_DataFrame_Main_Categories.csv', index_col=0)\n",
    "df['Item Description'] = df['Item Description'].apply(lambda d: pp.preprocess(str(d)))\n",
    "df"
   ]
  },
  {
   "cell_type": "markdown",
   "metadata": {},
   "source": [
    "## Splitting\n",
    "Because we are going to expand the dataset with records that are duplicates, we want to split before we do that, to prevent having the same descriptions in the test and train set."
   ]
  },
  {
   "cell_type": "code",
   "execution_count": 49,
   "metadata": {},
   "outputs": [
    {
     "name": "stdout",
     "output_type": "stream",
     "text": [
      "(73407, 2)\n",
      "(36156, 2)\n"
     ]
    }
   ],
   "source": [
    "from sklearn.model_selection import train_test_split\n",
    "\n",
    "X_train, X_test, y_train, y_test = train_test_split(df[\"Item Description\"], df.Category, test_size=0.33, random_state=0)\n",
    "\n",
    "data_train = {'Category': y_train, 'Item_Description': X_train}\n",
    "df_train = pd.DataFrame(data_train)\n",
    "print(df_train.shape)\n",
    "\n",
    "data_test = {'Category': y_test, 'Item_Description': X_test}\n",
    "df_test = pd.DataFrame(data_test)\n",
    "print(df_test.shape)"
   ]
  },
  {
   "cell_type": "markdown",
   "metadata": {},
   "source": [
    "## Sampling\n",
    "We take samples of categories with less categories and duplicate them to fill up the dataframe to create category groups of equal size. "
   ]
  },
  {
   "cell_type": "code",
   "execution_count": 50,
   "metadata": {},
   "outputs": [
    {
     "data": {
      "text/html": [
       "<div>\n",
       "<style scoped>\n",
       "    .dataframe tbody tr th:only-of-type {\n",
       "        vertical-align: middle;\n",
       "    }\n",
       "\n",
       "    .dataframe tbody tr th {\n",
       "        vertical-align: top;\n",
       "    }\n",
       "\n",
       "    .dataframe thead th {\n",
       "        text-align: right;\n",
       "    }\n",
       "</style>\n",
       "<table border=\"1\" class=\"dataframe\">\n",
       "  <thead>\n",
       "    <tr style=\"text-align: right;\">\n",
       "      <th></th>\n",
       "      <th>Category</th>\n",
       "      <th>Item_Description</th>\n",
       "    </tr>\n",
       "  </thead>\n",
       "  <tbody>\n",
       "    <tr>\n",
       "      <th>0</th>\n",
       "      <td>Chemicals</td>\n",
       "      <td>chemistri advic provid high level chemistri su...</td>\n",
       "    </tr>\n",
       "    <tr>\n",
       "      <th>1</th>\n",
       "      <td>Chemicals</td>\n",
       "      <td>nitroethan gallon pure nitroethan need ac grade</td>\n",
       "    </tr>\n",
       "    <tr>\n",
       "      <th>2</th>\n",
       "      <td>Chemicals</td>\n",
       "      <td>chemistri advic provid high level chemistri su...</td>\n",
       "    </tr>\n",
       "    <tr>\n",
       "      <th>3</th>\n",
       "      <td>Chemicals</td>\n",
       "      <td>phenylnitropropen kg phenylnitropropen kg</td>\n",
       "    </tr>\n",
       "    <tr>\n",
       "      <th>4</th>\n",
       "      <td>Chemicals</td>\n",
       "      <td>g red phosphoru reagent grade free em ship red...</td>\n",
       "    </tr>\n",
       "    <tr>\n",
       "      <th>...</th>\n",
       "      <td>...</td>\n",
       "      <td>...</td>\n",
       "    </tr>\n",
       "    <tr>\n",
       "      <th>870879</th>\n",
       "      <td>Weapons</td>\n",
       "      <td>telescop expand baton black protect solid stee...</td>\n",
       "    </tr>\n",
       "    <tr>\n",
       "      <th>870880</th>\n",
       "      <td>Weapons</td>\n",
       "      <td>custom vacheron custom list vacheron includ ship</td>\n",
       "    </tr>\n",
       "    <tr>\n",
       "      <th>870881</th>\n",
       "      <td>Weapons</td>\n",
       "      <td>stealth knife card knife card ship eu countri ...</td>\n",
       "    </tr>\n",
       "    <tr>\n",
       "      <th>870882</th>\n",
       "      <td>Weapons</td>\n",
       "      <td>silent stun k sent oz silent stun k sent oz</td>\n",
       "    </tr>\n",
       "    <tr>\n",
       "      <th>870883</th>\n",
       "      <td>Weapons</td>\n",
       "      <td>cusom b mention round usd choos shippinginclud</td>\n",
       "    </tr>\n",
       "  </tbody>\n",
       "</table>\n",
       "<p>870884 rows × 2 columns</p>\n",
       "</div>"
      ],
      "text/plain": [
       "         Category                                   Item_Description\n",
       "0       Chemicals  chemistri advic provid high level chemistri su...\n",
       "1       Chemicals    nitroethan gallon pure nitroethan need ac grade\n",
       "2       Chemicals  chemistri advic provid high level chemistri su...\n",
       "3       Chemicals          phenylnitropropen kg phenylnitropropen kg\n",
       "4       Chemicals  g red phosphoru reagent grade free em ship red...\n",
       "...           ...                                                ...\n",
       "870879    Weapons  telescop expand baton black protect solid stee...\n",
       "870880    Weapons   custom vacheron custom list vacheron includ ship\n",
       "870881    Weapons  stealth knife card knife card ship eu countri ...\n",
       "870882    Weapons        silent stun k sent oz silent stun k sent oz\n",
       "870883    Weapons     cusom b mention round usd choos shippinginclud\n",
       "\n",
       "[870884 rows x 2 columns]"
      ]
     },
     "execution_count": 50,
     "metadata": {},
     "output_type": "execute_result"
    }
   ],
   "source": [
    "grouped = df_train.groupby('Category', group_keys=False)\n",
    "df_train_balanced = pd.DataFrame(grouped.apply(lambda x: x.sample(grouped.size().max(), replace=True))).reset_index(drop=True)\n",
    "df_train_balanced"
   ]
  },
  {
   "cell_type": "markdown",
   "metadata": {},
   "source": [
    "## Vectorizing\n",
    "Now that we have the training and test set, we vectorize the features with the same tfidf model."
   ]
  },
  {
   "cell_type": "code",
   "execution_count": 51,
   "metadata": {},
   "outputs": [],
   "source": [
    "from sklearn.feature_extraction.text import TfidfVectorizer\n",
    "\n",
    "X_train = tfidf.fit_transform(df_train_balanced.Item_Description)\n",
    "y_train = df_train_balanced.Category.values\n",
    "X_test = tfidf.transform(df_test.Item_Description)\n",
    "y_test = df_test.Category.values"
   ]
  },
  {
   "cell_type": "markdown",
   "metadata": {},
   "source": [
    "## Training"
   ]
  },
  {
   "cell_type": "code",
   "execution_count": 52,
   "metadata": {},
   "outputs": [],
   "source": [
    "from sklearn.svm import LinearSVC\n",
    "\n",
    "model = LinearSVC()\n",
    "\n",
    "model.fit(X_train, y_train)\n",
    "y_pred = model.predict(X_test)"
   ]
  },
  {
   "cell_type": "markdown",
   "metadata": {},
   "source": [
    "## Results"
   ]
  },
  {
   "cell_type": "code",
   "execution_count": 1,
   "metadata": {},
   "outputs": [
    {
     "ename": "NameError",
     "evalue": "name 'y_test' is not defined",
     "output_type": "error",
     "traceback": [
      "\u001b[0;31m---------------------------------------------------------------------------\u001b[0m",
      "\u001b[0;31mNameError\u001b[0m                                 Traceback (most recent call last)",
      "\u001b[0;32m<ipython-input-1-c9ce8eb59a3d>\u001b[0m in \u001b[0;36m<module>\u001b[0;34m()\u001b[0m\n\u001b[1;32m      1\u001b[0m \u001b[0;32mfrom\u001b[0m \u001b[0msklearn\u001b[0m \u001b[0;32mimport\u001b[0m \u001b[0mmetrics\u001b[0m\u001b[0;34m\u001b[0m\u001b[0;34m\u001b[0m\u001b[0m\n\u001b[1;32m      2\u001b[0m \u001b[0;34m\u001b[0m\u001b[0m\n\u001b[0;32m----> 3\u001b[0;31m \u001b[0mprint\u001b[0m\u001b[0;34m(\u001b[0m\u001b[0;34m\"Accuracy: \"\u001b[0m\u001b[0;34m,\u001b[0m \u001b[0mmetrics\u001b[0m\u001b[0;34m.\u001b[0m\u001b[0maccuracy_score\u001b[0m\u001b[0;34m(\u001b[0m\u001b[0my_test\u001b[0m\u001b[0;34m,\u001b[0m \u001b[0my_pred\u001b[0m\u001b[0;34m)\u001b[0m\u001b[0;34m)\u001b[0m\u001b[0;34m\u001b[0m\u001b[0;34m\u001b[0m\u001b[0m\n\u001b[0m\u001b[1;32m      4\u001b[0m \u001b[0mprint\u001b[0m\u001b[0;34m(\u001b[0m\u001b[0;34m)\u001b[0m\u001b[0;34m\u001b[0m\u001b[0;34m\u001b[0m\u001b[0m\n\u001b[1;32m      5\u001b[0m \u001b[0mprint\u001b[0m\u001b[0;34m(\u001b[0m\u001b[0mmetrics\u001b[0m\u001b[0;34m.\u001b[0m\u001b[0mclassification_report\u001b[0m\u001b[0;34m(\u001b[0m\u001b[0my_test\u001b[0m\u001b[0;34m,\u001b[0m \u001b[0my_pred\u001b[0m\u001b[0;34m)\u001b[0m\u001b[0;34m)\u001b[0m\u001b[0;34m\u001b[0m\u001b[0;34m\u001b[0m\u001b[0m\n",
      "\u001b[0;31mNameError\u001b[0m: name 'y_test' is not defined"
     ]
    }
   ],
   "source": [
    "from sklearn import metrics\n",
    "\n",
    "print(\"Accuracy: \", metrics.accuracy_score(y_test, y_pred))\n",
    "print()\n",
    "print(metrics.classification_report(y_test, y_pred, target_names=df['Category'].unique()))"
   ]
  },
  {
   "cell_type": "markdown",
   "metadata": {},
   "source": [
    "## Conclusion\n",
    "We get a good result, but, as shown in notebook 21, it is a littlebit worse than without the sample balancing. This might be due to the fact that LinearSVC takes into account the document frequency of words. With duplicate documents, this might explain the worse result, because the words logically appear more often. The tfidf model thinks this means the words are less meaningfull, whilst they don't have to be; they're just duplicated.\n",
    "\n",
    "Word2Vec might work better for this reason, so that's what we'll try in the next notebook."
   ]
  },
  {
   "cell_type": "code",
   "execution_count": null,
   "metadata": {},
   "outputs": [],
   "source": []
  }
 ],
 "metadata": {
  "kernelspec": {
   "display_name": "Python 3",
   "language": "python",
   "name": "python3"
  },
  "language_info": {
   "codemirror_mode": {
    "name": "ipython",
    "version": 3
   },
   "file_extension": ".py",
   "mimetype": "text/x-python",
   "name": "python",
   "nbconvert_exporter": "python",
   "pygments_lexer": "ipython3",
   "version": "3.6.8"
  }
 },
 "nbformat": 4,
 "nbformat_minor": 2
}
