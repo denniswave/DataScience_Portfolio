{
 "cells": [
  {
   "cell_type": "markdown",
   "metadata": {},
   "source": [
    "# 19. Multi-Layer Perceptron (MLP) - Part 3\n",
    "I want to try it out on the main categories as well to see what happens to the results. This gave us the best result with LinearSVC.\n",
    "\n",
    "## Preprocessing"
   ]
  },
  {
   "cell_type": "code",
   "execution_count": 1,
   "metadata": {},
   "outputs": [
    {
     "data": {
      "text/html": [
       "<div>\n",
       "<style scoped>\n",
       "    .dataframe tbody tr th:only-of-type {\n",
       "        vertical-align: middle;\n",
       "    }\n",
       "\n",
       "    .dataframe tbody tr th {\n",
       "        vertical-align: top;\n",
       "    }\n",
       "\n",
       "    .dataframe thead th {\n",
       "        text-align: right;\n",
       "    }\n",
       "</style>\n",
       "<table border=\"1\" class=\"dataframe\">\n",
       "  <thead>\n",
       "    <tr style=\"text-align: right;\">\n",
       "      <th></th>\n",
       "      <th>Category</th>\n",
       "      <th>Item Description</th>\n",
       "      <th>category_id</th>\n",
       "    </tr>\n",
       "  </thead>\n",
       "  <tbody>\n",
       "    <tr>\n",
       "      <th>0</th>\n",
       "      <td>Services</td>\n",
       "      <td>month huluplu gift code month huluplu code wor...</td>\n",
       "      <td>0</td>\n",
       "    </tr>\n",
       "    <tr>\n",
       "      <th>1</th>\n",
       "      <td>Services</td>\n",
       "      <td>pay tv sky uk sky germani hd tv much cccam ser...</td>\n",
       "      <td>0</td>\n",
       "    </tr>\n",
       "    <tr>\n",
       "      <th>2</th>\n",
       "      <td>Services</td>\n",
       "      <td>offici account creator extrem tag submiss fix ...</td>\n",
       "      <td>0</td>\n",
       "    </tr>\n",
       "    <tr>\n",
       "      <th>3</th>\n",
       "      <td>Services</td>\n",
       "      <td>vpn tor sock tutori setup vpn tor sock super s...</td>\n",
       "      <td>0</td>\n",
       "    </tr>\n",
       "    <tr>\n",
       "      <th>4</th>\n",
       "      <td>Services</td>\n",
       "      <td>facebook hack guid guid teach hack facebook ac...</td>\n",
       "      <td>0</td>\n",
       "    </tr>\n",
       "    <tr>\n",
       "      <th>...</th>\n",
       "      <td>...</td>\n",
       "      <td>...</td>\n",
       "      <td>...</td>\n",
       "    </tr>\n",
       "    <tr>\n",
       "      <th>109585</th>\n",
       "      <td>Drugs</td>\n",
       "      <td>gr purifi opium list gramm redefin opium pefec...</td>\n",
       "      <td>1</td>\n",
       "    </tr>\n",
       "    <tr>\n",
       "      <th>109586</th>\n",
       "      <td>Weapons</td>\n",
       "      <td>ship ticket order ship one gun bought must bou...</td>\n",
       "      <td>11</td>\n",
       "    </tr>\n",
       "    <tr>\n",
       "      <th>109587</th>\n",
       "      <td>Drugs</td>\n",
       "      <td>gram white afghani heroin full escrow gram whi...</td>\n",
       "      <td>1</td>\n",
       "    </tr>\n",
       "    <tr>\n",
       "      <th>109588</th>\n",
       "      <td>Drugs</td>\n",
       "      <td>gram white afghani heroin full escrow gram whi...</td>\n",
       "      <td>1</td>\n",
       "    </tr>\n",
       "    <tr>\n",
       "      <th>109589</th>\n",
       "      <td>Drugs</td>\n",
       "      <td>heroin stamp bag pc bundl heroin stamp bag pc ...</td>\n",
       "      <td>1</td>\n",
       "    </tr>\n",
       "  </tbody>\n",
       "</table>\n",
       "<p>109563 rows × 3 columns</p>\n",
       "</div>"
      ],
      "text/plain": [
       "        Category                                   Item Description  \\\n",
       "0       Services  month huluplu gift code month huluplu code wor...   \n",
       "1       Services  pay tv sky uk sky germani hd tv much cccam ser...   \n",
       "2       Services  offici account creator extrem tag submiss fix ...   \n",
       "3       Services  vpn tor sock tutori setup vpn tor sock super s...   \n",
       "4       Services  facebook hack guid guid teach hack facebook ac...   \n",
       "...          ...                                                ...   \n",
       "109585     Drugs  gr purifi opium list gramm redefin opium pefec...   \n",
       "109586   Weapons  ship ticket order ship one gun bought must bou...   \n",
       "109587     Drugs  gram white afghani heroin full escrow gram whi...   \n",
       "109588     Drugs  gram white afghani heroin full escrow gram whi...   \n",
       "109589     Drugs  heroin stamp bag pc bundl heroin stamp bag pc ...   \n",
       "\n",
       "        category_id  \n",
       "0                 0  \n",
       "1                 0  \n",
       "2                 0  \n",
       "3                 0  \n",
       "4                 0  \n",
       "...             ...  \n",
       "109585            1  \n",
       "109586           11  \n",
       "109587            1  \n",
       "109588            1  \n",
       "109589            1  \n",
       "\n",
       "[109563 rows x 3 columns]"
      ]
     },
     "execution_count": 1,
     "metadata": {},
     "output_type": "execute_result"
    }
   ],
   "source": [
    "import pandas as pd\n",
    "from preprocessing import PreProcessor\n",
    "\n",
    "pp = PreProcessor()\n",
    "\n",
    "df = pd.read_csv('Structured_DataFrame_Main_Categories.csv', index_col=0)\n",
    "df['Item Description'] = df['Item Description'].apply(lambda d: pp.preprocess(str(d)))\n",
    "df"
   ]
  },
  {
   "cell_type": "markdown",
   "metadata": {},
   "source": [
    "## Vectorizing"
   ]
  },
  {
   "cell_type": "code",
   "execution_count": 2,
   "metadata": {},
   "outputs": [
    {
     "data": {
      "text/plain": [
       "<109563x102238 sparse matrix of type '<class 'numpy.float64'>'\n",
       "\twith 3414110 stored elements in Compressed Sparse Row format>"
      ]
     },
     "execution_count": 2,
     "metadata": {},
     "output_type": "execute_result"
    }
   ],
   "source": [
    "from sklearn.feature_extraction.text import TfidfVectorizer\n",
    "\n",
    "tfidf = TfidfVectorizer(sublinear_tf=True, min_df=5, norm='l2', encoding='latin-1', ngram_range=(1, 2))\n",
    "features = tfidf.fit_transform(df['Item Description'])\n",
    "labels = df.Category\n",
    "\n",
    "features"
   ]
  },
  {
   "cell_type": "markdown",
   "metadata": {},
   "source": [
    "## Splitting"
   ]
  },
  {
   "cell_type": "code",
   "execution_count": 3,
   "metadata": {},
   "outputs": [
    {
     "data": {
      "text/plain": [
       "<73407x102238 sparse matrix of type '<class 'numpy.float64'>'\n",
       "\twith 2286840 stored elements in Compressed Sparse Row format>"
      ]
     },
     "execution_count": 3,
     "metadata": {},
     "output_type": "execute_result"
    }
   ],
   "source": [
    "from sklearn.model_selection import train_test_split\n",
    "\n",
    "X_train, X_test, y_train, y_test, indices_train, indices_test = train_test_split(features, labels, df.index, test_size=0.33, random_state=0)\n",
    "\n",
    "X_train"
   ]
  },
  {
   "cell_type": "markdown",
   "metadata": {},
   "source": [
    "## Creating the model\n",
    "Compared to the part 1 MLP, I decreased the tolerance and max_iter so the model would stop earlier, because this one trains a lot slower due to the larger amount of data."
   ]
  },
  {
   "cell_type": "code",
   "execution_count": 4,
   "metadata": {},
   "outputs": [
    {
     "data": {
      "text/plain": [
       "MLPClassifier(activation='relu', alpha=0.001, batch_size='auto', beta_1=0.9,\n",
       "       beta_2=0.999, early_stopping=False, epsilon=1e-08,\n",
       "       hidden_layer_sizes=(100, 100, 100), learning_rate='constant',\n",
       "       learning_rate_init=0.001, max_iter=250, momentum=0.9,\n",
       "       n_iter_no_change=10, nesterovs_momentum=True, power_t=0.5,\n",
       "       random_state=21, shuffle=True, solver='adam', tol=1e-06,\n",
       "       validation_fraction=0.1, verbose=1, warm_start=False)"
      ]
     },
     "execution_count": 4,
     "metadata": {},
     "output_type": "execute_result"
    }
   ],
   "source": [
    "from sklearn.neural_network import MLPClassifier\n",
    "from sklearn.metrics import accuracy_score\n",
    "from sklearn.metrics import confusion_matrix\n",
    "\n",
    "clf = MLPClassifier(hidden_layer_sizes=(100,100,100), max_iter=250, learning_rate='constant', \n",
    "                     alpha=0.001, solver='adam', verbose=1, random_state=21, tol=0.000001)\n",
    "clf"
   ]
  },
  {
   "cell_type": "markdown",
   "metadata": {},
   "source": [
    "## Training the model"
   ]
  },
  {
   "cell_type": "code",
   "execution_count": 5,
   "metadata": {
    "scrolled": false
   },
   "outputs": [
    {
     "name": "stdout",
     "output_type": "stream",
     "text": [
      "Iteration 1, loss = 0.49147250\n",
      "Iteration 2, loss = 0.14836864\n",
      "Iteration 3, loss = 0.08407493\n",
      "Iteration 4, loss = 0.06094960\n",
      "Iteration 5, loss = 0.04935979\n",
      "Iteration 6, loss = 0.04430022\n",
      "Iteration 7, loss = 0.04103929\n",
      "Iteration 8, loss = 0.03844076\n",
      "Iteration 9, loss = 0.03646627\n",
      "Iteration 10, loss = 0.03457898\n",
      "Iteration 11, loss = 0.03345786\n",
      "Iteration 12, loss = 0.03327794\n",
      "Iteration 13, loss = 0.03373274\n",
      "Iteration 14, loss = 0.03259046\n",
      "Iteration 15, loss = 0.03209296\n",
      "Iteration 16, loss = 0.03158469\n",
      "Iteration 17, loss = 0.03043143\n",
      "Iteration 18, loss = 0.02991386\n",
      "Iteration 19, loss = 0.03002192\n",
      "Iteration 20, loss = 0.02853127\n",
      "Iteration 21, loss = 0.02929078\n",
      "Iteration 22, loss = 0.02884922\n",
      "Iteration 23, loss = 0.02806576\n",
      "Iteration 24, loss = 0.02810721\n",
      "Iteration 25, loss = 0.02860418\n",
      "Iteration 26, loss = 0.02691465\n",
      "Iteration 27, loss = 0.02665974\n",
      "Iteration 28, loss = 0.02653108\n",
      "Iteration 29, loss = 0.02631287\n",
      "Iteration 30, loss = 0.02678800\n",
      "Iteration 31, loss = 0.02628383\n",
      "Iteration 32, loss = 0.02800310\n",
      "Iteration 33, loss = 0.02509509\n",
      "Iteration 34, loss = 0.02527590\n",
      "Iteration 35, loss = 0.02462042\n",
      "Iteration 36, loss = 0.02405089\n",
      "Iteration 37, loss = 0.02401263\n",
      "Iteration 38, loss = 0.02462258\n",
      "Iteration 39, loss = 0.02352905\n",
      "Iteration 40, loss = 0.02419984\n",
      "Iteration 41, loss = 0.02328614\n",
      "Iteration 42, loss = 0.02298845\n",
      "Iteration 43, loss = 0.02359360\n",
      "Iteration 44, loss = 0.02280651\n",
      "Iteration 45, loss = 0.02284519\n",
      "Iteration 46, loss = 0.02287090\n",
      "Iteration 47, loss = 0.02271447\n",
      "Iteration 48, loss = 0.02217158\n",
      "Iteration 49, loss = 0.02229002\n",
      "Iteration 50, loss = 0.02286029\n",
      "Iteration 51, loss = 0.02208660\n",
      "Iteration 52, loss = 0.02167952\n",
      "Iteration 53, loss = 0.02164558\n",
      "Iteration 54, loss = 0.02195992\n",
      "Iteration 55, loss = 0.02144552\n",
      "Iteration 56, loss = 0.02146258\n",
      "Iteration 57, loss = 0.02233370\n",
      "Iteration 58, loss = 0.02132953\n",
      "Iteration 59, loss = 0.02100109\n",
      "Iteration 60, loss = 0.02071519\n",
      "Iteration 61, loss = 0.02075366\n",
      "Iteration 62, loss = 0.02125544\n",
      "Iteration 63, loss = 0.02047215\n",
      "Iteration 64, loss = 0.02062945\n",
      "Iteration 65, loss = 0.02016930\n",
      "Iteration 66, loss = 0.01977274\n",
      "Iteration 67, loss = 0.02029844\n",
      "Iteration 68, loss = 0.02089848\n",
      "Iteration 69, loss = 0.02011978\n",
      "Iteration 70, loss = 0.01999375\n"
     ]
    },
    {
     "name": "stderr",
     "output_type": "stream",
     "text": [
      "/opt/jupyterhub/anaconda/lib/python3.6/site-packages/sklearn/neural_network/multilayer_perceptron.py:564: UserWarning: Training interrupted by user.\n",
      "  warnings.warn(\"Training interrupted by user.\")\n"
     ]
    },
    {
     "data": {
      "text/plain": [
       "MLPClassifier(activation='relu', alpha=0.001, batch_size='auto', beta_1=0.9,\n",
       "       beta_2=0.999, early_stopping=False, epsilon=1e-08,\n",
       "       hidden_layer_sizes=(100, 100, 100), learning_rate='constant',\n",
       "       learning_rate_init=0.001, max_iter=250, momentum=0.9,\n",
       "       n_iter_no_change=10, nesterovs_momentum=True, power_t=0.5,\n",
       "       random_state=21, shuffle=True, solver='adam', tol=1e-06,\n",
       "       validation_fraction=0.1, verbose=1, warm_start=False)"
      ]
     },
     "execution_count": 5,
     "metadata": {},
     "output_type": "execute_result"
    }
   ],
   "source": [
    "clf.fit(X_train, y_train)"
   ]
  },
  {
   "cell_type": "markdown",
   "metadata": {},
   "source": [
    "## Validating the model"
   ]
  },
  {
   "cell_type": "code",
   "execution_count": 6,
   "metadata": {},
   "outputs": [],
   "source": [
    "y_pred = clf.predict(X_test)"
   ]
  },
  {
   "cell_type": "code",
   "execution_count": 7,
   "metadata": {},
   "outputs": [
    {
     "data": {
      "text/plain": [
       "0.9480307556145592"
      ]
     },
     "execution_count": 7,
     "metadata": {},
     "output_type": "execute_result"
    }
   ],
   "source": [
    "accuracy_score(y_test, y_pred)"
   ]
  },
  {
   "cell_type": "markdown",
   "metadata": {},
   "source": [
    "## Save the model"
   ]
  },
  {
   "cell_type": "code",
   "execution_count": 8,
   "metadata": {},
   "outputs": [
    {
     "name": "stdout",
     "output_type": "stream",
     "text": [
      "0.9480307556145592\n"
     ]
    }
   ],
   "source": [
    "import pickle\n",
    "\n",
    "filename = 'MLP_Main_Model.sav'\n",
    "pickle.dump(clf, open(filename, 'wb'))\n",
    "\n",
    "# load the model from disk\n",
    "loaded_model = pickle.load(open(filename, 'rb'))\n",
    "result = loaded_model.score(X_test, y_test)\n",
    "print(result)"
   ]
  },
  {
   "cell_type": "markdown",
   "metadata": {},
   "source": [
    "## Conclusion\n",
    "The model performs quite well on the dataset. In notebook 21 I will compare some scores of the entire dataset and main categories to this one and other methods."
   ]
  },
  {
   "cell_type": "code",
   "execution_count": null,
   "metadata": {},
   "outputs": [],
   "source": []
  }
 ],
 "metadata": {
  "kernelspec": {
   "display_name": "Python 3",
   "language": "python",
   "name": "python3"
  },
  "language_info": {
   "codemirror_mode": {
    "name": "ipython",
    "version": 3
   },
   "file_extension": ".py",
   "mimetype": "text/x-python",
   "name": "python",
   "nbconvert_exporter": "python",
   "pygments_lexer": "ipython3",
   "version": "3.6.8"
  }
 },
 "nbformat": 4,
 "nbformat_minor": 2
}
