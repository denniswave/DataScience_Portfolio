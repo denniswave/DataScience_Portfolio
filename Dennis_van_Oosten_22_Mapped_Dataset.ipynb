{
 "cells": [
  {
   "cell_type": "markdown",
   "metadata": {},
   "source": [
    "# 22. Mapped dataset\n",
    "We have now created a dataset that mapped the Agora dataset categories to the Interpol categories. Let's see how that set performs. Probably better, since there are less categories.\n",
    "\n",
    "## Preprocessing"
   ]
  },
  {
   "cell_type": "code",
   "execution_count": 20,
   "metadata": {},
   "outputs": [
    {
     "data": {
      "text/html": [
       "<div>\n",
       "<style scoped>\n",
       "    .dataframe tbody tr th:only-of-type {\n",
       "        vertical-align: middle;\n",
       "    }\n",
       "\n",
       "    .dataframe tbody tr th {\n",
       "        vertical-align: top;\n",
       "    }\n",
       "\n",
       "    .dataframe thead th {\n",
       "        text-align: right;\n",
       "    }\n",
       "</style>\n",
       "<table border=\"1\" class=\"dataframe\">\n",
       "  <thead>\n",
       "    <tr style=\"text-align: right;\">\n",
       "      <th></th>\n",
       "      <th>Category</th>\n",
       "      <th>Item Description</th>\n",
       "      <th>category_id</th>\n",
       "    </tr>\n",
       "  </thead>\n",
       "  <tbody>\n",
       "    <tr>\n",
       "      <th>0</th>\n",
       "      <td>Services</td>\n",
       "      <td>month huluplu gift code month huluplu code wor...</td>\n",
       "      <td>0</td>\n",
       "    </tr>\n",
       "    <tr>\n",
       "      <th>1</th>\n",
       "      <td>Services</td>\n",
       "      <td>pay tv sky uk sky germani hd tv much cccam ser...</td>\n",
       "      <td>0</td>\n",
       "    </tr>\n",
       "    <tr>\n",
       "      <th>2</th>\n",
       "      <td>Services</td>\n",
       "      <td>offici account creator extrem tag submiss fix ...</td>\n",
       "      <td>0</td>\n",
       "    </tr>\n",
       "    <tr>\n",
       "      <th>3</th>\n",
       "      <td>Services</td>\n",
       "      <td>vpn tor sock tutori setup vpn tor sock super s...</td>\n",
       "      <td>0</td>\n",
       "    </tr>\n",
       "    <tr>\n",
       "      <th>4</th>\n",
       "      <td>Services</td>\n",
       "      <td>facebook hack guid guid teach hack facebook ac...</td>\n",
       "      <td>0</td>\n",
       "    </tr>\n",
       "    <tr>\n",
       "      <th>...</th>\n",
       "      <td>...</td>\n",
       "      <td>...</td>\n",
       "      <td>...</td>\n",
       "    </tr>\n",
       "    <tr>\n",
       "      <th>110567</th>\n",
       "      <td>Drugs</td>\n",
       "      <td>gr purifi opium list gramm redefin opium pefec...</td>\n",
       "      <td>1</td>\n",
       "    </tr>\n",
       "    <tr>\n",
       "      <th>110568</th>\n",
       "      <td>Explosives</td>\n",
       "      <td>ship ticket order ship one gun bought must bou...</td>\n",
       "      <td>12</td>\n",
       "    </tr>\n",
       "    <tr>\n",
       "      <th>110569</th>\n",
       "      <td>Drugs</td>\n",
       "      <td>gram white afghani heroin full escrow gram whi...</td>\n",
       "      <td>1</td>\n",
       "    </tr>\n",
       "    <tr>\n",
       "      <th>110570</th>\n",
       "      <td>Drugs</td>\n",
       "      <td>gram white afghani heroin full escrow gram whi...</td>\n",
       "      <td>1</td>\n",
       "    </tr>\n",
       "    <tr>\n",
       "      <th>110571</th>\n",
       "      <td>Drugs</td>\n",
       "      <td>heroin stamp bag pc bundl heroin stamp bag pc ...</td>\n",
       "      <td>1</td>\n",
       "    </tr>\n",
       "  </tbody>\n",
       "</table>\n",
       "<p>110572 rows × 3 columns</p>\n",
       "</div>"
      ],
      "text/plain": [
       "          Category                                   Item Description  \\\n",
       "0         Services  month huluplu gift code month huluplu code wor...   \n",
       "1         Services  pay tv sky uk sky germani hd tv much cccam ser...   \n",
       "2         Services  offici account creator extrem tag submiss fix ...   \n",
       "3         Services  vpn tor sock tutori setup vpn tor sock super s...   \n",
       "4         Services  facebook hack guid guid teach hack facebook ac...   \n",
       "...            ...                                                ...   \n",
       "110567       Drugs  gr purifi opium list gramm redefin opium pefec...   \n",
       "110568  Explosives  ship ticket order ship one gun bought must bou...   \n",
       "110569       Drugs  gram white afghani heroin full escrow gram whi...   \n",
       "110570       Drugs  gram white afghani heroin full escrow gram whi...   \n",
       "110571       Drugs  heroin stamp bag pc bundl heroin stamp bag pc ...   \n",
       "\n",
       "        category_id  \n",
       "0                 0  \n",
       "1                 0  \n",
       "2                 0  \n",
       "3                 0  \n",
       "4                 0  \n",
       "...             ...  \n",
       "110567            1  \n",
       "110568           12  \n",
       "110569            1  \n",
       "110570            1  \n",
       "110571            1  \n",
       "\n",
       "[110572 rows x 3 columns]"
      ]
     },
     "execution_count": 20,
     "metadata": {},
     "output_type": "execute_result"
    }
   ],
   "source": [
    "import pandas as pd\n",
    "from preprocessing import PreProcessor\n",
    "\n",
    "data = pd.read_csv('Mapped.csv')\n",
    "\n",
    "categories = data['Category']\n",
    "descriptions = data['Item'] + \" \" + data['Item Description']\n",
    "\n",
    "df = pd.DataFrame({'Category': categories, 'Item Description': descriptions})\n",
    "df = df[pd.notnull(df['Item Description'])] # no empty descriptions\n",
    "df = df[df.groupby('Category')['Category'].transform(len) > 1] # only categories that appear more than once\n",
    "\n",
    "df['category_id'] = df['Category'].factorize()[0]\n",
    "category_id_df = df[['Category', 'category_id']].drop_duplicates().sort_values('category_id')\n",
    "category_to_id = dict(category_id_df.values)\n",
    "id_to_category = dict(category_id_df[['category_id', 'Category']].values)\n",
    "\n",
    "df.to_csv('Structured_DataFrame_Mapped.csv')\n",
    "\n",
    "pp = PreProcessor()\n",
    "\n",
    "df['Item Description'] = df['Item Description'].apply(lambda d: pp.preprocess(str(d)))\n",
    "df"
   ]
  },
  {
   "cell_type": "markdown",
   "metadata": {},
   "source": [
    "## Vectorizing"
   ]
  },
  {
   "cell_type": "code",
   "execution_count": 21,
   "metadata": {},
   "outputs": [
    {
     "data": {
      "text/plain": [
       "<110572x102119 sparse matrix of type '<class 'numpy.float64'>'\n",
       "\twith 3419789 stored elements in Compressed Sparse Row format>"
      ]
     },
     "execution_count": 21,
     "metadata": {},
     "output_type": "execute_result"
    }
   ],
   "source": [
    "from sklearn.feature_extraction.text import TfidfVectorizer\n",
    "\n",
    "tfidf = TfidfVectorizer(sublinear_tf=True, min_df=5, norm='l2', encoding='latin-1', ngram_range=(1, 2))\n",
    "\n",
    "features = tfidf.fit_transform(df['Item Description'])\n",
    "labels = df.Category\n",
    "\n",
    "features"
   ]
  },
  {
   "cell_type": "markdown",
   "metadata": {},
   "source": [
    "## Splitting"
   ]
  },
  {
   "cell_type": "code",
   "execution_count": 22,
   "metadata": {},
   "outputs": [
    {
     "name": "stdout",
     "output_type": "stream",
     "text": [
      "(74083, 102119) (36489, 102119)\n"
     ]
    }
   ],
   "source": [
    "from sklearn.model_selection import train_test_split\n",
    "\n",
    "X_train, X_test, y_train, y_test, indices_train, indices_test = train_test_split(features, labels, df.index, test_size=0.33, random_state=0)\n",
    "\n",
    "print(X_train.shape, X_test.shape)"
   ]
  },
  {
   "cell_type": "markdown",
   "metadata": {},
   "source": [
    "## Training"
   ]
  },
  {
   "cell_type": "code",
   "execution_count": 23,
   "metadata": {},
   "outputs": [],
   "source": [
    "from sklearn.svm import LinearSVC\n",
    "\n",
    "model = LinearSVC()\n",
    "\n",
    "model.fit(X_train, y_train)\n",
    "\n",
    "y_pred = model.predict(X_test)"
   ]
  },
  {
   "cell_type": "markdown",
   "metadata": {},
   "source": [
    "## Results"
   ]
  },
  {
   "cell_type": "code",
   "execution_count": 24,
   "metadata": {
    "scrolled": false
   },
   "outputs": [
    {
     "name": "stdout",
     "output_type": "stream",
     "text": [
      "Accuracy:  0.9645646633231932\n",
      "\n"
     ]
    },
    {
     "name": "stderr",
     "output_type": "stream",
     "text": [
      "/opt/jupyterhub/anaconda/lib/python3.6/site-packages/sklearn/metrics/classification.py:1143: UndefinedMetricWarning: Precision and F-score are ill-defined and being set to 0.0 in labels with no predicted samples.\n",
      "  'precision', 'predicted', average, warn_for)\n"
     ]
    },
    {
     "name": "stdout",
     "output_type": "stream",
     "text": [
      "                  precision    recall  f1-score   support\n",
      "\n",
      "        Chemical       1.00      0.75      0.86        28\n",
      "     Counterfeit       0.93      0.89      0.91       939\n",
      "           Drugs       0.99      0.99      0.99     31950\n",
      "      Explosives       0.00      0.00      0.00         5\n",
      "        Firearms       0.83      0.70      0.76       124\n",
      "Forged Documents       0.93      0.88      0.91       353\n",
      "        Services       0.69      0.68      0.69       868\n",
      "        Software       0.72      0.60      0.66       100\n",
      "     Stolen Data       0.83      0.81      0.82       560\n",
      "    Stolen Goods       0.89      0.84      0.87       131\n",
      "        Tutorial       0.36      0.24      0.29       304\n",
      "         Weapons       0.92      0.75      0.83        96\n",
      "            Wiki       0.75      0.78      0.77      1031\n",
      "\n",
      "       micro avg       0.96      0.96      0.96     36489\n",
      "       macro avg       0.76      0.69      0.72     36489\n",
      "    weighted avg       0.96      0.96      0.96     36489\n",
      "\n"
     ]
    }
   ],
   "source": [
    "from sklearn import metrics\n",
    "\n",
    "print(\"Accuracy: \", metrics.accuracy_score(y_test, y_pred))\n",
    "print()\n",
    "print(metrics.classification_report(y_test, y_pred))"
   ]
  },
  {
   "cell_type": "markdown",
   "metadata": {},
   "source": [
    "## Conclusion\n",
    "The mapped dataset performs even better, as expected."
   ]
  },
  {
   "cell_type": "code",
   "execution_count": null,
   "metadata": {},
   "outputs": [],
   "source": []
  }
 ],
 "metadata": {
  "kernelspec": {
   "display_name": "Python 3",
   "language": "python",
   "name": "python3"
  },
  "language_info": {
   "codemirror_mode": {
    "name": "ipython",
    "version": 3
   },
   "file_extension": ".py",
   "mimetype": "text/x-python",
   "name": "python",
   "nbconvert_exporter": "python",
   "pygments_lexer": "ipython3",
   "version": "3.6.8"
  }
 },
 "nbformat": 4,
 "nbformat_minor": 2
}
