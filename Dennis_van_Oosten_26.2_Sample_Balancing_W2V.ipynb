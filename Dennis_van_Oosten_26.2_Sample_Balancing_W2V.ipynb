{
 "cells": [
  {
   "cell_type": "markdown",
   "metadata": {},
   "source": [
    "# 26. Balancing by copying - Word2Vec\n",
    "We want to try sample balancing on w2v as well.\n",
    "\n",
    "## Preprocessing"
   ]
  },
  {
   "cell_type": "code",
   "execution_count": 1,
   "metadata": {},
   "outputs": [
    {
     "data": {
      "text/html": [
       "<div>\n",
       "<style scoped>\n",
       "    .dataframe tbody tr th:only-of-type {\n",
       "        vertical-align: middle;\n",
       "    }\n",
       "\n",
       "    .dataframe tbody tr th {\n",
       "        vertical-align: top;\n",
       "    }\n",
       "\n",
       "    .dataframe thead th {\n",
       "        text-align: right;\n",
       "    }\n",
       "</style>\n",
       "<table border=\"1\" class=\"dataframe\">\n",
       "  <thead>\n",
       "    <tr style=\"text-align: right;\">\n",
       "      <th></th>\n",
       "      <th>Category</th>\n",
       "      <th>Item Description</th>\n",
       "      <th>category_id</th>\n",
       "    </tr>\n",
       "  </thead>\n",
       "  <tbody>\n",
       "    <tr>\n",
       "      <th>0</th>\n",
       "      <td>Services</td>\n",
       "      <td>month huluplu gift code month huluplu code wor...</td>\n",
       "      <td>0</td>\n",
       "    </tr>\n",
       "    <tr>\n",
       "      <th>1</th>\n",
       "      <td>Services</td>\n",
       "      <td>pay tv sky uk sky germani hd tv much cccam ser...</td>\n",
       "      <td>0</td>\n",
       "    </tr>\n",
       "    <tr>\n",
       "      <th>2</th>\n",
       "      <td>Services</td>\n",
       "      <td>offici account creator extrem tag submiss fix ...</td>\n",
       "      <td>0</td>\n",
       "    </tr>\n",
       "    <tr>\n",
       "      <th>3</th>\n",
       "      <td>Services</td>\n",
       "      <td>vpn tor sock tutori setup vpn tor sock super s...</td>\n",
       "      <td>0</td>\n",
       "    </tr>\n",
       "    <tr>\n",
       "      <th>4</th>\n",
       "      <td>Services</td>\n",
       "      <td>facebook hack guid guid teach hack facebook ac...</td>\n",
       "      <td>0</td>\n",
       "    </tr>\n",
       "    <tr>\n",
       "      <th>...</th>\n",
       "      <td>...</td>\n",
       "      <td>...</td>\n",
       "      <td>...</td>\n",
       "    </tr>\n",
       "    <tr>\n",
       "      <th>109585</th>\n",
       "      <td>Drugs</td>\n",
       "      <td>gr purifi opium list gramm redefin opium pefec...</td>\n",
       "      <td>1</td>\n",
       "    </tr>\n",
       "    <tr>\n",
       "      <th>109586</th>\n",
       "      <td>Weapons</td>\n",
       "      <td>ship ticket order ship one gun bought must bou...</td>\n",
       "      <td>11</td>\n",
       "    </tr>\n",
       "    <tr>\n",
       "      <th>109587</th>\n",
       "      <td>Drugs</td>\n",
       "      <td>gram white afghani heroin full escrow gram whi...</td>\n",
       "      <td>1</td>\n",
       "    </tr>\n",
       "    <tr>\n",
       "      <th>109588</th>\n",
       "      <td>Drugs</td>\n",
       "      <td>gram white afghani heroin full escrow gram whi...</td>\n",
       "      <td>1</td>\n",
       "    </tr>\n",
       "    <tr>\n",
       "      <th>109589</th>\n",
       "      <td>Drugs</td>\n",
       "      <td>heroin stamp bag pc bundl heroin stamp bag pc ...</td>\n",
       "      <td>1</td>\n",
       "    </tr>\n",
       "  </tbody>\n",
       "</table>\n",
       "<p>109563 rows × 3 columns</p>\n",
       "</div>"
      ],
      "text/plain": [
       "        Category                                   Item Description  \\\n",
       "0       Services  month huluplu gift code month huluplu code wor...   \n",
       "1       Services  pay tv sky uk sky germani hd tv much cccam ser...   \n",
       "2       Services  offici account creator extrem tag submiss fix ...   \n",
       "3       Services  vpn tor sock tutori setup vpn tor sock super s...   \n",
       "4       Services  facebook hack guid guid teach hack facebook ac...   \n",
       "...          ...                                                ...   \n",
       "109585     Drugs  gr purifi opium list gramm redefin opium pefec...   \n",
       "109586   Weapons  ship ticket order ship one gun bought must bou...   \n",
       "109587     Drugs  gram white afghani heroin full escrow gram whi...   \n",
       "109588     Drugs  gram white afghani heroin full escrow gram whi...   \n",
       "109589     Drugs  heroin stamp bag pc bundl heroin stamp bag pc ...   \n",
       "\n",
       "        category_id  \n",
       "0                 0  \n",
       "1                 0  \n",
       "2                 0  \n",
       "3                 0  \n",
       "4                 0  \n",
       "...             ...  \n",
       "109585            1  \n",
       "109586           11  \n",
       "109587            1  \n",
       "109588            1  \n",
       "109589            1  \n",
       "\n",
       "[109563 rows x 3 columns]"
      ]
     },
     "execution_count": 1,
     "metadata": {},
     "output_type": "execute_result"
    }
   ],
   "source": [
    "import pandas as pd\n",
    "from preprocessing import PreProcessor\n",
    "\n",
    "pp = PreProcessor()\n",
    "\n",
    "df = pd.read_csv('../Data/Structured_DataFrame_Main_Categories.csv', index_col=0)\n",
    "df['Item Description'] = df['Item Description'].apply(lambda d: pp.preprocess(str(d)))\n",
    "df"
   ]
  },
  {
   "cell_type": "markdown",
   "metadata": {},
   "source": [
    "## Splitting"
   ]
  },
  {
   "cell_type": "code",
   "execution_count": 2,
   "metadata": {},
   "outputs": [
    {
     "name": "stdout",
     "output_type": "stream",
     "text": [
      "(73407, 2)\n",
      "(36156, 2)\n"
     ]
    }
   ],
   "source": [
    "from sklearn.model_selection import train_test_split\n",
    "\n",
    "X_train, X_test, y_train, y_test = train_test_split(df[\"Item Description\"], df.Category, test_size=0.33, random_state=0)\n",
    "\n",
    "data_train = {'Category': y_train, 'Item_Description': X_train}\n",
    "df_train = pd.DataFrame(data_train)\n",
    "print(df_train.shape)\n",
    "\n",
    "data_test = {'Category': y_test, 'Item_Description': X_test}\n",
    "df_test = pd.DataFrame(data_test)\n",
    "print(df_test.shape)"
   ]
  },
  {
   "cell_type": "markdown",
   "metadata": {},
   "source": [
    "## Sampling"
   ]
  },
  {
   "cell_type": "code",
   "execution_count": 3,
   "metadata": {},
   "outputs": [
    {
     "data": {
      "text/html": [
       "<div>\n",
       "<style scoped>\n",
       "    .dataframe tbody tr th:only-of-type {\n",
       "        vertical-align: middle;\n",
       "    }\n",
       "\n",
       "    .dataframe tbody tr th {\n",
       "        vertical-align: top;\n",
       "    }\n",
       "\n",
       "    .dataframe thead th {\n",
       "        text-align: right;\n",
       "    }\n",
       "</style>\n",
       "<table border=\"1\" class=\"dataframe\">\n",
       "  <thead>\n",
       "    <tr style=\"text-align: right;\">\n",
       "      <th></th>\n",
       "      <th>Category</th>\n",
       "      <th>Item_Description</th>\n",
       "    </tr>\n",
       "  </thead>\n",
       "  <tbody>\n",
       "    <tr>\n",
       "      <th>0</th>\n",
       "      <td>Chemicals</td>\n",
       "      <td>iodin pure g iodin pure g pleas note reship av...</td>\n",
       "    </tr>\n",
       "    <tr>\n",
       "      <th>1</th>\n",
       "      <td>Chemicals</td>\n",
       "      <td>chemistri advic provid high level chemistri su...</td>\n",
       "    </tr>\n",
       "    <tr>\n",
       "      <th>2</th>\n",
       "      <td>Chemicals</td>\n",
       "      <td>glacial acet acid gaa ml glacial acet acid ar</td>\n",
       "    </tr>\n",
       "    <tr>\n",
       "      <th>3</th>\n",
       "      <td>Chemicals</td>\n",
       "      <td>aeroslab lightweight test plate aeroslab light...</td>\n",
       "    </tr>\n",
       "    <tr>\n",
       "      <th>4</th>\n",
       "      <td>Chemicals</td>\n",
       "      <td>kg red phosphoru reagent grade free em ship re...</td>\n",
       "    </tr>\n",
       "    <tr>\n",
       "      <th>...</th>\n",
       "      <td>...</td>\n",
       "      <td>...</td>\n",
       "    </tr>\n",
       "    <tr>\n",
       "      <th>870879</th>\n",
       "      <td>Weapons</td>\n",
       "      <td>tauru pt mm full escrow list weapon shown come...</td>\n",
       "    </tr>\n",
       "    <tr>\n",
       "      <th>870880</th>\n",
       "      <td>Weapons</td>\n",
       "      <td>list daza gun btc</td>\n",
       "    </tr>\n",
       "    <tr>\n",
       "      <th>870881</th>\n",
       "      <td>Weapons</td>\n",
       "      <td>otf mini microtech daytona tanto point plane e...</td>\n",
       "    </tr>\n",
       "    <tr>\n",
       "      <th>870882</th>\n",
       "      <td>Weapons</td>\n",
       "      <td>black flat kubotan self defens keyr fast ship ...</td>\n",
       "    </tr>\n",
       "    <tr>\n",
       "      <th>870883</th>\n",
       "      <td>Weapons</td>\n",
       "      <td>steel iron knuckl silverschlagr silber zacken ...</td>\n",
       "    </tr>\n",
       "  </tbody>\n",
       "</table>\n",
       "<p>870884 rows × 2 columns</p>\n",
       "</div>"
      ],
      "text/plain": [
       "         Category                                   Item_Description\n",
       "0       Chemicals  iodin pure g iodin pure g pleas note reship av...\n",
       "1       Chemicals  chemistri advic provid high level chemistri su...\n",
       "2       Chemicals      glacial acet acid gaa ml glacial acet acid ar\n",
       "3       Chemicals  aeroslab lightweight test plate aeroslab light...\n",
       "4       Chemicals  kg red phosphoru reagent grade free em ship re...\n",
       "...           ...                                                ...\n",
       "870879    Weapons  tauru pt mm full escrow list weapon shown come...\n",
       "870880    Weapons                                  list daza gun btc\n",
       "870881    Weapons  otf mini microtech daytona tanto point plane e...\n",
       "870882    Weapons  black flat kubotan self defens keyr fast ship ...\n",
       "870883    Weapons  steel iron knuckl silverschlagr silber zacken ...\n",
       "\n",
       "[870884 rows x 2 columns]"
      ]
     },
     "execution_count": 3,
     "metadata": {},
     "output_type": "execute_result"
    }
   ],
   "source": [
    "grouped = df_train.groupby('Category', group_keys=False)\n",
    "df_train_balanced = pd.DataFrame(grouped.apply(lambda x: x.sample(grouped.size().max(), replace=True))).reset_index(drop=True)\n",
    "df_train_balanced"
   ]
  },
  {
   "cell_type": "markdown",
   "metadata": {},
   "source": [
    "## Vectorizing"
   ]
  },
  {
   "cell_type": "code",
   "execution_count": 4,
   "metadata": {},
   "outputs": [],
   "source": [
    "from gensim.models import Word2Vec\n",
    "from nltk import word_tokenize\n",
    "import numpy as np\n",
    "\n",
    "def word2vec(corpus, size):\n",
    "    tokenized = [word_tokenize(row) for row in corpus]\n",
    "    model = Word2Vec(tokenized, size=size, workers=8)\n",
    "    vectors = []\n",
    "    for i, row in enumerate(tokenized):\n",
    "        sentence_vectors = [model.wv[word] for word in row if word in model.wv]\n",
    "        if len(sentence_vectors) == 0:\n",
    "            vectors.append(np.random.uniform(low=-1, high=1, size=(128,)))\n",
    "        else:\n",
    "            sentence_vector = np.average(sentence_vectors, axis=0)\n",
    "            vectors.append(sentence_vector)\n",
    "    return vectors, model\n",
    "\n",
    "def w2vTransform(sentence, model):\n",
    "    sentence_vectors = [model.wv[word] for word in word_tokenize(sentence) if word in model.wv]\n",
    "    if len(sentence_vectors) == 0:\n",
    "        return np.random.uniform(low=-1, high=1, size=(128,))\n",
    "    return np.average(sentence_vectors, axis=0)\n",
    "\n",
    "X_train, model = word2vec(df_train_balanced.Item_Description, 128)\n",
    "y_train = df_train_balanced.Category.values\n",
    "X_test = df_test.Item_Description.apply(lambda x: w2vTransform(x, model)).tolist()\n",
    "y_test = df_test.Category.values"
   ]
  },
  {
   "cell_type": "markdown",
   "metadata": {},
   "source": [
    "## Training"
   ]
  },
  {
   "cell_type": "code",
   "execution_count": 5,
   "metadata": {},
   "outputs": [
    {
     "name": "stderr",
     "output_type": "stream",
     "text": [
      "/opt/jupyterhub/anaconda/lib/python3.6/site-packages/sklearn/svm/base.py:931: ConvergenceWarning: Liblinear failed to converge, increase the number of iterations.\n",
      "  \"the number of iterations.\", ConvergenceWarning)\n"
     ]
    },
    {
     "data": {
      "text/plain": [
       "LinearSVC(C=1.0, class_weight=None, dual=True, fit_intercept=True,\n",
       "     intercept_scaling=1, loss='squared_hinge', max_iter=1000,\n",
       "     multi_class='ovr', penalty='l2', random_state=None, tol=0.0001,\n",
       "     verbose=0)"
      ]
     },
     "execution_count": 5,
     "metadata": {},
     "output_type": "execute_result"
    }
   ],
   "source": [
    "from sklearn.svm import LinearSVC\n",
    "\n",
    "model = LinearSVC()\n",
    "\n",
    "model.fit(X_train, y_train)"
   ]
  },
  {
   "cell_type": "code",
   "execution_count": 6,
   "metadata": {},
   "outputs": [],
   "source": [
    "y_pred = model.predict(X_test)"
   ]
  },
  {
   "cell_type": "markdown",
   "metadata": {},
   "source": [
    "## Results"
   ]
  },
  {
   "cell_type": "code",
   "execution_count": 9,
   "metadata": {},
   "outputs": [
    {
     "name": "stdout",
     "output_type": "stream",
     "text": [
      "Accuracy:  0.8659420289855072\n",
      "\n"
     ]
    },
    {
     "ename": "ValueError",
     "evalue": "Number of classes, 14, does not match size of target_names, 109563. Try specifying the labels parameter",
     "output_type": "error",
     "traceback": [
      "\u001b[0;31m---------------------------------------------------------------------------\u001b[0m",
      "\u001b[0;31mValueError\u001b[0m                                Traceback (most recent call last)",
      "\u001b[0;32m<ipython-input-9-42efcceb4562>\u001b[0m in \u001b[0;36m<module>\u001b[0;34m()\u001b[0m\n\u001b[1;32m      3\u001b[0m \u001b[0mprint\u001b[0m\u001b[0;34m(\u001b[0m\u001b[0;34m\"Accuracy: \"\u001b[0m\u001b[0;34m,\u001b[0m \u001b[0mmetrics\u001b[0m\u001b[0;34m.\u001b[0m\u001b[0maccuracy_score\u001b[0m\u001b[0;34m(\u001b[0m\u001b[0my_test\u001b[0m\u001b[0;34m,\u001b[0m \u001b[0my_pred\u001b[0m\u001b[0;34m)\u001b[0m\u001b[0;34m)\u001b[0m\u001b[0;34m\u001b[0m\u001b[0;34m\u001b[0m\u001b[0m\n\u001b[1;32m      4\u001b[0m \u001b[0mprint\u001b[0m\u001b[0;34m(\u001b[0m\u001b[0;34m)\u001b[0m\u001b[0;34m\u001b[0m\u001b[0;34m\u001b[0m\u001b[0m\n\u001b[0;32m----> 5\u001b[0;31m \u001b[0mprint\u001b[0m\u001b[0;34m(\u001b[0m\u001b[0mmetrics\u001b[0m\u001b[0;34m.\u001b[0m\u001b[0mclassification_report\u001b[0m\u001b[0;34m(\u001b[0m\u001b[0my_test\u001b[0m\u001b[0;34m,\u001b[0m \u001b[0my_pred\u001b[0m\u001b[0;34m,\u001b[0m \u001b[0mtarget_names\u001b[0m\u001b[0;34m=\u001b[0m\u001b[0mdf\u001b[0m\u001b[0;34m[\u001b[0m\u001b[0;34m'Category'\u001b[0m\u001b[0;34m]\u001b[0m\u001b[0;34m)\u001b[0m\u001b[0;34m)\u001b[0m\u001b[0;34m\u001b[0m\u001b[0;34m\u001b[0m\u001b[0m\n\u001b[0m",
      "\u001b[0;32m/opt/jupyterhub/anaconda/lib/python3.6/site-packages/sklearn/metrics/classification.py\u001b[0m in \u001b[0;36mclassification_report\u001b[0;34m(y_true, y_pred, labels, target_names, sample_weight, digits, output_dict)\u001b[0m\n\u001b[1;32m   1541\u001b[0m                 \u001b[0;34m\"Number of classes, {0}, does not match size of \"\u001b[0m\u001b[0;34m\u001b[0m\u001b[0;34m\u001b[0m\u001b[0m\n\u001b[1;32m   1542\u001b[0m                 \u001b[0;34m\"target_names, {1}. Try specifying the labels \"\u001b[0m\u001b[0;34m\u001b[0m\u001b[0;34m\u001b[0m\u001b[0m\n\u001b[0;32m-> 1543\u001b[0;31m                 \u001b[0;34m\"parameter\"\u001b[0m\u001b[0;34m.\u001b[0m\u001b[0mformat\u001b[0m\u001b[0;34m(\u001b[0m\u001b[0mlen\u001b[0m\u001b[0;34m(\u001b[0m\u001b[0mlabels\u001b[0m\u001b[0;34m)\u001b[0m\u001b[0;34m,\u001b[0m \u001b[0mlen\u001b[0m\u001b[0;34m(\u001b[0m\u001b[0mtarget_names\u001b[0m\u001b[0;34m)\u001b[0m\u001b[0;34m)\u001b[0m\u001b[0;34m\u001b[0m\u001b[0;34m\u001b[0m\u001b[0m\n\u001b[0m\u001b[1;32m   1544\u001b[0m             )\n\u001b[1;32m   1545\u001b[0m     \u001b[0;32mif\u001b[0m \u001b[0mtarget_names\u001b[0m \u001b[0;32mis\u001b[0m \u001b[0;32mNone\u001b[0m\u001b[0;34m:\u001b[0m\u001b[0;34m\u001b[0m\u001b[0;34m\u001b[0m\u001b[0m\n",
      "\u001b[0;31mValueError\u001b[0m: Number of classes, 14, does not match size of target_names, 109563. Try specifying the labels parameter"
     ]
    }
   ],
   "source": [
    "from sklearn import metrics\n",
    "\n",
    "print(\"Accuracy: \", metrics.accuracy_score(y_test, y_pred))\n",
    "print()\n",
    "print(metrics.classification_report(y_test, y_pred, target_names=df['Category'].unique()))"
   ]
  },
  {
   "cell_type": "markdown",
   "metadata": {},
   "source": [
    "## Conclusion"
   ]
  },
  {
   "cell_type": "code",
   "execution_count": null,
   "metadata": {},
   "outputs": [],
   "source": []
  }
 ],
 "metadata": {
  "kernelspec": {
   "display_name": "Python 3",
   "language": "python",
   "name": "python3"
  },
  "language_info": {
   "codemirror_mode": {
    "name": "ipython",
    "version": 3
   },
   "file_extension": ".py",
   "mimetype": "text/x-python",
   "name": "python",
   "nbconvert_exporter": "python",
   "pygments_lexer": "ipython3",
   "version": "3.6.8"
  }
 },
 "nbformat": 4,
 "nbformat_minor": 2
}
