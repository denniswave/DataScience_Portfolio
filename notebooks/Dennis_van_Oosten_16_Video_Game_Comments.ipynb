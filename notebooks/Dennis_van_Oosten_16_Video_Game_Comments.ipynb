{
 "cells": [
  {
   "cell_type": "markdown",
   "metadata": {},
   "source": [
    "# 16. Metacritic Video Game Comments\n",
    "Just like the previous notebook, we wanted to see how our algorithm performs on other datasets. Where the imdb dataset only labeled negative or positive, this dataset gives the games a rating from 1 to 10 based on the comments. This will probably be a bit harder to predict. https://www.kaggle.com/dahlia25/metacritic-video-game-comments#metacritic_game_user_comments.csv\n",
    "\n",
    "## Creating the dataframe"
   ]
  },
  {
   "cell_type": "code",
   "execution_count": 2,
   "metadata": {},
   "outputs": [
    {
     "data": {
      "text/html": [
       "<div>\n",
       "<style scoped>\n",
       "    .dataframe tbody tr th:only-of-type {\n",
       "        vertical-align: middle;\n",
       "    }\n",
       "\n",
       "    .dataframe tbody tr th {\n",
       "        vertical-align: top;\n",
       "    }\n",
       "\n",
       "    .dataframe thead th {\n",
       "        text-align: right;\n",
       "    }\n",
       "</style>\n",
       "<table border=\"1\" class=\"dataframe\">\n",
       "  <thead>\n",
       "    <tr style=\"text-align: right;\">\n",
       "      <th></th>\n",
       "      <th>Title</th>\n",
       "      <th>Platform</th>\n",
       "      <th>Userscore</th>\n",
       "      <th>Comment</th>\n",
       "      <th>Username</th>\n",
       "    </tr>\n",
       "  </thead>\n",
       "  <tbody>\n",
       "    <tr>\n",
       "      <td>0</td>\n",
       "      <td>The Legend of Zelda: Ocarina of Time</td>\n",
       "      <td>Nintendo64</td>\n",
       "      <td>10</td>\n",
       "      <td>Everything in OoT is so near at perfection, it...</td>\n",
       "      <td>SirCaestus</td>\n",
       "    </tr>\n",
       "    <tr>\n",
       "      <td>1</td>\n",
       "      <td>The Legend of Zelda: Ocarina of Time</td>\n",
       "      <td>Nintendo64</td>\n",
       "      <td>10</td>\n",
       "      <td>I won't bore you with what everyone is already...</td>\n",
       "      <td>Kaistlin</td>\n",
       "    </tr>\n",
       "    <tr>\n",
       "      <td>2</td>\n",
       "      <td>The Legend of Zelda: Ocarina of Time</td>\n",
       "      <td>Nintendo64</td>\n",
       "      <td>10</td>\n",
       "      <td>Anyone who gives the masterpiece below a 7 or ...</td>\n",
       "      <td>Jacody</td>\n",
       "    </tr>\n",
       "    <tr>\n",
       "      <td>3</td>\n",
       "      <td>The Legend of Zelda: Ocarina of Time</td>\n",
       "      <td>Nintendo64</td>\n",
       "      <td>10</td>\n",
       "      <td>I'm one of those people who think that this is...</td>\n",
       "      <td>doodlerman</td>\n",
       "    </tr>\n",
       "    <tr>\n",
       "      <td>4</td>\n",
       "      <td>The Legend of Zelda: Ocarina of Time</td>\n",
       "      <td>Nintendo64</td>\n",
       "      <td>10</td>\n",
       "      <td>This game is the highest rated game on Metacr...</td>\n",
       "      <td>StevenA</td>\n",
       "    </tr>\n",
       "    <tr>\n",
       "      <td>...</td>\n",
       "      <td>...</td>\n",
       "      <td>...</td>\n",
       "      <td>...</td>\n",
       "      <td>...</td>\n",
       "      <td>...</td>\n",
       "    </tr>\n",
       "    <tr>\n",
       "      <td>283978</td>\n",
       "      <td>Etrian Odyssey Untold: The Millennium Girl</td>\n",
       "      <td>3DS</td>\n",
       "      <td>7</td>\n",
       "      <td>Extremely similar to EO:4, which obviously isn...</td>\n",
       "      <td>RileyWRussell</td>\n",
       "    </tr>\n",
       "    <tr>\n",
       "      <td>283979</td>\n",
       "      <td>Etrian Odyssey Untold: The Millennium Girl</td>\n",
       "      <td>3DS</td>\n",
       "      <td>0</td>\n",
       "      <td>Typical overrated Atlus trash. A game i should...</td>\n",
       "      <td>TemplarGR</td>\n",
       "    </tr>\n",
       "    <tr>\n",
       "      <td>283980</td>\n",
       "      <td>Etrian Odyssey Untold: The Millennium Girl</td>\n",
       "      <td>3DS</td>\n",
       "      <td>9</td>\n",
       "      <td>While I find the story mode to have annoying c...</td>\n",
       "      <td>midipon</td>\n",
       "    </tr>\n",
       "    <tr>\n",
       "      <td>283981</td>\n",
       "      <td>Etrian Odyssey Untold: The Millennium Girl</td>\n",
       "      <td>3DS</td>\n",
       "      <td>8</td>\n",
       "      <td>Pretty good, but it certainly lacks the visual...</td>\n",
       "      <td>night4</td>\n",
       "    </tr>\n",
       "    <tr>\n",
       "      <td>283982</td>\n",
       "      <td>Etrian Odyssey Untold: The Millennium Girl</td>\n",
       "      <td>3DS</td>\n",
       "      <td>9</td>\n",
       "      <td>As my first game from the \"Etrian series\" i ha...</td>\n",
       "      <td>Balorer</td>\n",
       "    </tr>\n",
       "  </tbody>\n",
       "</table>\n",
       "<p>283983 rows × 5 columns</p>\n",
       "</div>"
      ],
      "text/plain": [
       "                                             Title    Platform  Userscore  \\\n",
       "0             The Legend of Zelda: Ocarina of Time  Nintendo64         10   \n",
       "1             The Legend of Zelda: Ocarina of Time  Nintendo64         10   \n",
       "2             The Legend of Zelda: Ocarina of Time  Nintendo64         10   \n",
       "3             The Legend of Zelda: Ocarina of Time  Nintendo64         10   \n",
       "4             The Legend of Zelda: Ocarina of Time  Nintendo64         10   \n",
       "...                                            ...         ...        ...   \n",
       "283978  Etrian Odyssey Untold: The Millennium Girl         3DS          7   \n",
       "283979  Etrian Odyssey Untold: The Millennium Girl         3DS          0   \n",
       "283980  Etrian Odyssey Untold: The Millennium Girl         3DS          9   \n",
       "283981  Etrian Odyssey Untold: The Millennium Girl         3DS          8   \n",
       "283982  Etrian Odyssey Untold: The Millennium Girl         3DS          9   \n",
       "\n",
       "                                                  Comment       Username  \n",
       "0       Everything in OoT is so near at perfection, it...     SirCaestus  \n",
       "1       I won't bore you with what everyone is already...       Kaistlin  \n",
       "2       Anyone who gives the masterpiece below a 7 or ...         Jacody  \n",
       "3       I'm one of those people who think that this is...     doodlerman  \n",
       "4        This game is the highest rated game on Metacr...        StevenA  \n",
       "...                                                   ...            ...  \n",
       "283978  Extremely similar to EO:4, which obviously isn...  RileyWRussell  \n",
       "283979  Typical overrated Atlus trash. A game i should...      TemplarGR  \n",
       "283980  While I find the story mode to have annoying c...        midipon  \n",
       "283981  Pretty good, but it certainly lacks the visual...         night4  \n",
       "283982  As my first game from the \"Etrian series\" i ha...        Balorer  \n",
       "\n",
       "[283983 rows x 5 columns]"
      ]
     },
     "execution_count": 2,
     "metadata": {},
     "output_type": "execute_result"
    }
   ],
   "source": [
    "import pandas as pd\n",
    "\n",
    "df = pd.read_csv('Metacritic/metacritic_game_user_comments.csv', index_col=0)\n",
    "df"
   ]
  },
  {
   "cell_type": "markdown",
   "metadata": {},
   "source": [
    "## Preprocessing\n",
    "Because these comments aren't preprocessed yet, we can use our own preprocessing method."
   ]
  },
  {
   "cell_type": "code",
   "execution_count": 3,
   "metadata": {},
   "outputs": [
    {
     "data": {
      "text/html": [
       "<div>\n",
       "<style scoped>\n",
       "    .dataframe tbody tr th:only-of-type {\n",
       "        vertical-align: middle;\n",
       "    }\n",
       "\n",
       "    .dataframe tbody tr th {\n",
       "        vertical-align: top;\n",
       "    }\n",
       "\n",
       "    .dataframe thead th {\n",
       "        text-align: right;\n",
       "    }\n",
       "</style>\n",
       "<table border=\"1\" class=\"dataframe\">\n",
       "  <thead>\n",
       "    <tr style=\"text-align: right;\">\n",
       "      <th></th>\n",
       "      <th>Title</th>\n",
       "      <th>Platform</th>\n",
       "      <th>Userscore</th>\n",
       "      <th>Comment</th>\n",
       "      <th>Username</th>\n",
       "    </tr>\n",
       "  </thead>\n",
       "  <tbody>\n",
       "    <tr>\n",
       "      <td>0</td>\n",
       "      <td>The Legend of Zelda: Ocarina of Time</td>\n",
       "      <td>Nintendo64</td>\n",
       "      <td>10</td>\n",
       "      <td>everyth oot near perfect realli wonder game hu...</td>\n",
       "      <td>SirCaestus</td>\n",
       "    </tr>\n",
       "    <tr>\n",
       "      <td>1</td>\n",
       "      <td>The Legend of Zelda: Ocarina of Time</td>\n",
       "      <td>Nintendo64</td>\n",
       "      <td>10</td>\n",
       "      <td>wont bore everyon alreadi say amaz game your f...</td>\n",
       "      <td>Kaistlin</td>\n",
       "    </tr>\n",
       "    <tr>\n",
       "      <td>2</td>\n",
       "      <td>The Legend of Zelda: Ocarina of Time</td>\n",
       "      <td>Nintendo64</td>\n",
       "      <td>10</td>\n",
       "      <td>anyon give masterpiec either hate astound zeld...</td>\n",
       "      <td>Jacody</td>\n",
       "    </tr>\n",
       "    <tr>\n",
       "      <td>3</td>\n",
       "      <td>The Legend of Zelda: Ocarina of Time</td>\n",
       "      <td>Nintendo64</td>\n",
       "      <td>10</td>\n",
       "      <td>im one peopl think greatest game time matter q...</td>\n",
       "      <td>doodlerman</td>\n",
       "    </tr>\n",
       "    <tr>\n",
       "      <td>4</td>\n",
       "      <td>The Legend of Zelda: Ocarina of Time</td>\n",
       "      <td>Nintendo64</td>\n",
       "      <td>10</td>\n",
       "      <td>game highest rate game metacrit good reason ta...</td>\n",
       "      <td>StevenA</td>\n",
       "    </tr>\n",
       "    <tr>\n",
       "      <td>...</td>\n",
       "      <td>...</td>\n",
       "      <td>...</td>\n",
       "      <td>...</td>\n",
       "      <td>...</td>\n",
       "      <td>...</td>\n",
       "    </tr>\n",
       "    <tr>\n",
       "      <td>283978</td>\n",
       "      <td>Etrian Odyssey Untold: The Millennium Girl</td>\n",
       "      <td>3DS</td>\n",
       "      <td>7</td>\n",
       "      <td>extrem similar eo obvious isnt bad thing id sa...</td>\n",
       "      <td>RileyWRussell</td>\n",
       "    </tr>\n",
       "    <tr>\n",
       "      <td>283979</td>\n",
       "      <td>Etrian Odyssey Untold: The Millennium Girl</td>\n",
       "      <td>3DS</td>\n",
       "      <td>0</td>\n",
       "      <td>typic overr atlu trash game like sinc oldtim h...</td>\n",
       "      <td>TemplarGR</td>\n",
       "    </tr>\n",
       "    <tr>\n",
       "      <td>283980</td>\n",
       "      <td>Etrian Odyssey Untold: The Millennium Girl</td>\n",
       "      <td>3DS</td>\n",
       "      <td>9</td>\n",
       "      <td>find stori mode annoy charact intrus stori cla...</td>\n",
       "      <td>midipon</td>\n",
       "    </tr>\n",
       "    <tr>\n",
       "      <td>283981</td>\n",
       "      <td>Etrian Odyssey Untold: The Millennium Girl</td>\n",
       "      <td>3DS</td>\n",
       "      <td>8</td>\n",
       "      <td>pretti good certainli lack visual audio polish...</td>\n",
       "      <td>night4</td>\n",
       "    </tr>\n",
       "    <tr>\n",
       "      <td>283982</td>\n",
       "      <td>Etrian Odyssey Untold: The Millennium Girl</td>\n",
       "      <td>3DS</td>\n",
       "      <td>9</td>\n",
       "      <td>first game etrian seri hard time got use check...</td>\n",
       "      <td>Balorer</td>\n",
       "    </tr>\n",
       "  </tbody>\n",
       "</table>\n",
       "<p>283983 rows × 5 columns</p>\n",
       "</div>"
      ],
      "text/plain": [
       "                                             Title    Platform  Userscore  \\\n",
       "0             The Legend of Zelda: Ocarina of Time  Nintendo64         10   \n",
       "1             The Legend of Zelda: Ocarina of Time  Nintendo64         10   \n",
       "2             The Legend of Zelda: Ocarina of Time  Nintendo64         10   \n",
       "3             The Legend of Zelda: Ocarina of Time  Nintendo64         10   \n",
       "4             The Legend of Zelda: Ocarina of Time  Nintendo64         10   \n",
       "...                                            ...         ...        ...   \n",
       "283978  Etrian Odyssey Untold: The Millennium Girl         3DS          7   \n",
       "283979  Etrian Odyssey Untold: The Millennium Girl         3DS          0   \n",
       "283980  Etrian Odyssey Untold: The Millennium Girl         3DS          9   \n",
       "283981  Etrian Odyssey Untold: The Millennium Girl         3DS          8   \n",
       "283982  Etrian Odyssey Untold: The Millennium Girl         3DS          9   \n",
       "\n",
       "                                                  Comment       Username  \n",
       "0       everyth oot near perfect realli wonder game hu...     SirCaestus  \n",
       "1       wont bore everyon alreadi say amaz game your f...       Kaistlin  \n",
       "2       anyon give masterpiec either hate astound zeld...         Jacody  \n",
       "3       im one peopl think greatest game time matter q...     doodlerman  \n",
       "4       game highest rate game metacrit good reason ta...        StevenA  \n",
       "...                                                   ...            ...  \n",
       "283978  extrem similar eo obvious isnt bad thing id sa...  RileyWRussell  \n",
       "283979  typic overr atlu trash game like sinc oldtim h...      TemplarGR  \n",
       "283980  find stori mode annoy charact intrus stori cla...        midipon  \n",
       "283981  pretti good certainli lack visual audio polish...         night4  \n",
       "283982  first game etrian seri hard time got use check...        Balorer  \n",
       "\n",
       "[283983 rows x 5 columns]"
      ]
     },
     "execution_count": 3,
     "metadata": {},
     "output_type": "execute_result"
    }
   ],
   "source": [
    "from preprocessing import PreProcessor\n",
    "\n",
    "pp = PreProcessor()\n",
    "\n",
    "df.Comment = df.Comment.apply(lambda c: pp.preprocess(str(c)))\n",
    "df"
   ]
  },
  {
   "cell_type": "markdown",
   "metadata": {},
   "source": [
    "## Vectorizing"
   ]
  },
  {
   "cell_type": "code",
   "execution_count": 4,
   "metadata": {},
   "outputs": [
    {
     "data": {
      "text/plain": [
       "<283983x525101 sparse matrix of type '<class 'numpy.float64'>'\n",
       "\twith 26055655 stored elements in Compressed Sparse Row format>"
      ]
     },
     "execution_count": 4,
     "metadata": {},
     "output_type": "execute_result"
    }
   ],
   "source": [
    "from sklearn.feature_extraction.text import TfidfVectorizer\n",
    "\n",
    "tfidf = TfidfVectorizer(sublinear_tf=True, min_df=5, norm='l2', encoding='latin-1', ngram_range=(1, 2))\n",
    "features = tfidf.fit_transform(df.Comment)\n",
    "labels = df.Userscore\n",
    "\n",
    "features"
   ]
  },
  {
   "cell_type": "markdown",
   "metadata": {},
   "source": [
    "## Splitting and Training"
   ]
  },
  {
   "cell_type": "code",
   "execution_count": 5,
   "metadata": {},
   "outputs": [
    {
     "data": {
      "text/plain": [
       "LinearSVC(C=1.0, class_weight=None, dual=True, fit_intercept=True,\n",
       "          intercept_scaling=1, loss='squared_hinge', max_iter=1000,\n",
       "          multi_class='ovr', penalty='l2', random_state=None, tol=0.0001,\n",
       "          verbose=0)"
      ]
     },
     "execution_count": 5,
     "metadata": {},
     "output_type": "execute_result"
    }
   ],
   "source": [
    "from sklearn.model_selection import train_test_split\n",
    "from sklearn.svm import LinearSVC\n",
    "\n",
    "X_train, X_test, y_train, y_test, indices_train, indices_test = train_test_split(features, labels, df.index, test_size=0.33, random_state=0)\n",
    "    \n",
    "linearSVCModel = LinearSVC()\n",
    "linearSVCModel.fit(X_train, y_train)"
   ]
  },
  {
   "cell_type": "markdown",
   "metadata": {},
   "source": [
    "## Predicting"
   ]
  },
  {
   "cell_type": "code",
   "execution_count": 6,
   "metadata": {},
   "outputs": [
    {
     "name": "stdout",
     "output_type": "stream",
     "text": [
      "              precision    recall  f1-score   support\n",
      "\n",
      "           0       0.47      0.63      0.54      6643\n",
      "           1       0.17      0.06      0.09      2350\n",
      "           2       0.16      0.05      0.07      2028\n",
      "           3       0.16      0.06      0.09      2337\n",
      "           4       0.18      0.07      0.10      2600\n",
      "           5       0.19      0.11      0.14      3313\n",
      "           6       0.21      0.13      0.16      4035\n",
      "           7       0.24      0.15      0.19      5675\n",
      "           8       0.27      0.22      0.24      9904\n",
      "           9       0.34      0.31      0.32     17610\n",
      "          10       0.64      0.84      0.72     37220\n",
      "\n",
      "    accuracy                           0.48     93715\n",
      "   macro avg       0.27      0.24      0.24     93715\n",
      "weighted avg       0.42      0.48      0.44     93715\n",
      "\n"
     ]
    }
   ],
   "source": [
    "from sklearn import metrics\n",
    "\n",
    "y_predLinearSVC = linearSVCModel.predict(X_test)\n",
    "\n",
    "print(metrics.classification_report(y_test, y_predLinearSVC))"
   ]
  },
  {
   "cell_type": "markdown",
   "metadata": {},
   "source": [
    "## Scoring\n",
    "The accuracy of the model is quite low. However, it is difficult to accurately predict a score, since the scores are given by users it is easy to be off a few points. It is not as straight forward as negative or positive. Because of this, on Kaggle, they also looked at the scoring in a different way. They looked at the average amount of points the model (mis)predicted the scores. That is exactly what I will do as well.  "
   ]
  },
  {
   "cell_type": "code",
   "execution_count": 7,
   "metadata": {},
   "outputs": [
    {
     "name": "stdout",
     "output_type": "stream",
     "text": [
      "Average difference: 1.2506749186362909\n"
     ]
    }
   ],
   "source": [
    "numberOfPredictions = len(y_predLinearSVC)\n",
    "totalDifference = 0\n",
    "\n",
    "for prediction in range(0, numberOfPredictions):\n",
    "\n",
    "    actual = y_test.array[prediction]\n",
    "    predicted = y_predLinearSVC[prediction]\n",
    "    \n",
    "    difference = abs(actual - predicted)\n",
    "    totalDifference += difference\n",
    "    \n",
    "averageDifference = totalDifference / numberOfPredictions\n",
    "print(f'Average difference: {averageDifference}')"
   ]
  },
  {
   "cell_type": "markdown",
   "metadata": {},
   "source": [
    "## Conclusion\n",
    "The Kaggle notebook was off by an average of 1.22 points per review. Our model performs almost as good. Just like with the IMDB reviews, our model scores very well when comparing it to the top Kaggle solutions."
   ]
  },
  {
   "cell_type": "code",
   "execution_count": null,
   "metadata": {},
   "outputs": [],
   "source": []
  }
 ],
 "metadata": {
  "kernelspec": {
   "display_name": "Python 3",
   "language": "python",
   "name": "python3"
  },
  "language_info": {
   "codemirror_mode": {
    "name": "ipython",
    "version": 3
   },
   "file_extension": ".py",
   "mimetype": "text/x-python",
   "name": "python",
   "nbconvert_exporter": "python",
   "pygments_lexer": "ipython3",
   "version": "3.6.8"
  }
 },
 "nbformat": 4,
 "nbformat_minor": 2
}
