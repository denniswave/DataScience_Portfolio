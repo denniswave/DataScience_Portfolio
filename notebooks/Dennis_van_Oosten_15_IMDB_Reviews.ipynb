{
 "cells": [
  {
   "cell_type": "markdown",
   "metadata": {},
   "source": [
    "# 15. IMDB Reviews\n",
    "To check if our algorithm works on another dataset, we used the Kaggle IMDB dataset in this case and tried to train our models with that to see if the scores were close to the best ones on Kaggle. For this dataset, the highest competition accuracy score was 0.93. Sentiment 0 is negative, 1 is positive. https://www.kaggle.com/c/imdb-review/data\n",
    "\n",
    "## Creating the dataframe"
   ]
  },
  {
   "cell_type": "code",
   "execution_count": 11,
   "metadata": {},
   "outputs": [
    {
     "data": {
      "text/html": [
       "<div>\n",
       "<style scoped>\n",
       "    .dataframe tbody tr th:only-of-type {\n",
       "        vertical-align: middle;\n",
       "    }\n",
       "\n",
       "    .dataframe tbody tr th {\n",
       "        vertical-align: top;\n",
       "    }\n",
       "\n",
       "    .dataframe thead th {\n",
       "        text-align: right;\n",
       "    }\n",
       "</style>\n",
       "<table border=\"1\" class=\"dataframe\">\n",
       "  <thead>\n",
       "    <tr style=\"text-align: right;\">\n",
       "      <th></th>\n",
       "      <th>SentimentText</th>\n",
       "      <th>Sentiment</th>\n",
       "    </tr>\n",
       "    <tr>\n",
       "      <th>ID</th>\n",
       "      <th></th>\n",
       "      <th></th>\n",
       "    </tr>\n",
       "  </thead>\n",
       "  <tbody>\n",
       "    <tr>\n",
       "      <td>0</td>\n",
       "      <td>first think another disney movie might good it...</td>\n",
       "      <td>1</td>\n",
       "    </tr>\n",
       "    <tr>\n",
       "      <td>1</td>\n",
       "      <td>put aside dr house repeat missed desperate hou...</td>\n",
       "      <td>0</td>\n",
       "    </tr>\n",
       "    <tr>\n",
       "      <td>2</td>\n",
       "      <td>big fan stephen king s work film made even gre...</td>\n",
       "      <td>1</td>\n",
       "    </tr>\n",
       "    <tr>\n",
       "      <td>3</td>\n",
       "      <td>watched horrid thing tv needless say one movie...</td>\n",
       "      <td>0</td>\n",
       "    </tr>\n",
       "    <tr>\n",
       "      <td>4</td>\n",
       "      <td>truly enjoyed film acting terrific plot jeff c...</td>\n",
       "      <td>1</td>\n",
       "    </tr>\n",
       "    <tr>\n",
       "      <td>...</td>\n",
       "      <td>...</td>\n",
       "      <td>...</td>\n",
       "    </tr>\n",
       "    <tr>\n",
       "      <td>23995</td>\n",
       "      <td>garbo s introduction sound clarence brown s an...</td>\n",
       "      <td>1</td>\n",
       "    </tr>\n",
       "    <tr>\n",
       "      <td>23996</td>\n",
       "      <td>means movie bad perfect stranger was not funny...</td>\n",
       "      <td>0</td>\n",
       "    </tr>\n",
       "    <tr>\n",
       "      <td>23997</td>\n",
       "      <td>happened basically solid plausible premise dec...</td>\n",
       "      <td>0</td>\n",
       "    </tr>\n",
       "    <tr>\n",
       "      <td>23998</td>\n",
       "      <td>seen romantic comedies one easiest worst attem...</td>\n",
       "      <td>0</td>\n",
       "    </tr>\n",
       "    <tr>\n",
       "      <td>23999</td>\n",
       "      <td>pretty funny saturday th a great work laughed ...</td>\n",
       "      <td>0</td>\n",
       "    </tr>\n",
       "  </tbody>\n",
       "</table>\n",
       "<p>24000 rows × 2 columns</p>\n",
       "</div>"
      ],
      "text/plain": [
       "                                           SentimentText  Sentiment\n",
       "ID                                                                 \n",
       "0      first think another disney movie might good it...          1\n",
       "1      put aside dr house repeat missed desperate hou...          0\n",
       "2      big fan stephen king s work film made even gre...          1\n",
       "3      watched horrid thing tv needless say one movie...          0\n",
       "4      truly enjoyed film acting terrific plot jeff c...          1\n",
       "...                                                  ...        ...\n",
       "23995  garbo s introduction sound clarence brown s an...          1\n",
       "23996  means movie bad perfect stranger was not funny...          0\n",
       "23997  happened basically solid plausible premise dec...          0\n",
       "23998  seen romantic comedies one easiest worst attem...          0\n",
       "23999  pretty funny saturday th a great work laughed ...          0\n",
       "\n",
       "[24000 rows x 2 columns]"
      ]
     },
     "execution_count": 11,
     "metadata": {},
     "output_type": "execute_result"
    }
   ],
   "source": [
    "import pandas as pd\n",
    "\n",
    "df = pd.read_csv('IMDB/train_data.csv', index_col=0)\n",
    "df"
   ]
  },
  {
   "cell_type": "markdown",
   "metadata": {},
   "source": [
    "## Vectorizing"
   ]
  },
  {
   "cell_type": "code",
   "execution_count": 14,
   "metadata": {},
   "outputs": [
    {
     "data": {
      "text/plain": [
       "<24000x94669 sparse matrix of type '<class 'numpy.float64'>'\n",
       "\twith 3438168 stored elements in Compressed Sparse Row format>"
      ]
     },
     "execution_count": 14,
     "metadata": {},
     "output_type": "execute_result"
    }
   ],
   "source": [
    "from sklearn.feature_extraction.text import TfidfVectorizer\n",
    "\n",
    "tfidf = TfidfVectorizer(sublinear_tf=True, min_df=5, norm='l2', encoding='latin-1', ngram_range=(1, 2))\n",
    "features = tfidf.fit_transform(df.SentimentText)\n",
    "labels = df.Sentiment\n",
    "\n",
    "features"
   ]
  },
  {
   "cell_type": "markdown",
   "metadata": {},
   "source": [
    "## Splitting and Training"
   ]
  },
  {
   "cell_type": "code",
   "execution_count": 15,
   "metadata": {},
   "outputs": [
    {
     "data": {
      "text/plain": [
       "LinearSVC(C=1.0, class_weight=None, dual=True, fit_intercept=True,\n",
       "          intercept_scaling=1, loss='squared_hinge', max_iter=1000,\n",
       "          multi_class='ovr', penalty='l2', random_state=None, tol=0.0001,\n",
       "          verbose=0)"
      ]
     },
     "execution_count": 15,
     "metadata": {},
     "output_type": "execute_result"
    }
   ],
   "source": [
    "from sklearn.model_selection import train_test_split\n",
    "from sklearn.svm import LinearSVC\n",
    "\n",
    "X_train, X_test, y_train, y_test, indices_train, indices_test = train_test_split(features, labels, df.index, test_size=0.33, random_state=0)\n",
    "    \n",
    "linearSVCModel = LinearSVC()\n",
    "linearSVCModel.fit(X_train, y_train)"
   ]
  },
  {
   "cell_type": "markdown",
   "metadata": {},
   "source": [
    "## Predicting"
   ]
  },
  {
   "cell_type": "code",
   "execution_count": 18,
   "metadata": {},
   "outputs": [
    {
     "name": "stdout",
     "output_type": "stream",
     "text": [
      "              precision    recall  f1-score   support\n",
      "\n",
      "           0       0.90      0.89      0.90      3958\n",
      "           1       0.89      0.91      0.90      3962\n",
      "\n",
      "    accuracy                           0.90      7920\n",
      "   macro avg       0.90      0.90      0.90      7920\n",
      "weighted avg       0.90      0.90      0.90      7920\n",
      "\n"
     ]
    }
   ],
   "source": [
    "from sklearn import metrics\n",
    "\n",
    "y_predLinearSVC = linearSVCModel.predict(X_test)\n",
    "\n",
    "print(metrics.classification_report(y_test, y_predLinearSVC))"
   ]
  },
  {
   "cell_type": "markdown",
   "metadata": {},
   "source": [
    "## Conclusion\n",
    "To test if our model was functioning properly, we wanted to test it against another dataset. To do this, we fed the new data to our best functioning model: Linear SVC with tf-idf vectorizing. Since the data seemed preprocessed already for all candidates in the Kaggle competition, we did not use our own preprocessing method (it does not seem to to much of a difference anyway on our own Kaggle dataset). The highest accuracy on Kaggle was 0.91. Our algorithm accomplished 0.90. It seems that we are on the right path according to this test. "
   ]
  },
  {
   "cell_type": "markdown",
   "metadata": {},
   "source": [
    "## Discussion\n",
    "We wanted to learn from other peoples best solutions on Kaggle. However, the highest on the leaderboard have 0.93.\n",
    "It seems there are not that much more better solutions. The leaders on Kaggle that get that few percent more seem to use Neural Networks. Next lecture will be on Neural Networks for NLP. This will be perfect for us to try some more NN, since our last attempt was not very succesfull. "
   ]
  },
  {
   "cell_type": "code",
   "execution_count": null,
   "metadata": {},
   "outputs": [],
   "source": []
  }
 ],
 "metadata": {
  "kernelspec": {
   "display_name": "Python 3",
   "language": "python",
   "name": "python3"
  },
  "language_info": {
   "codemirror_mode": {
    "name": "ipython",
    "version": 3
   },
   "file_extension": ".py",
   "mimetype": "text/x-python",
   "name": "python",
   "nbconvert_exporter": "python",
   "pygments_lexer": "ipython3",
   "version": "3.6.8"
  }
 },
 "nbformat": 4,
 "nbformat_minor": 2
}
