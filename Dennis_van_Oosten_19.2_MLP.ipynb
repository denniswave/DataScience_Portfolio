{
 "cells": [
  {
   "cell_type": "markdown",
   "metadata": {},
   "source": [
    "# 19. Multi-Layer Perceptron (MLP) - Part 2\n",
    "Now that I got MLP to work, I want to try it out on the complete dataset to see what happens to the results.\n",
    "\n",
    "## Preprocessing"
   ]
  },
  {
   "cell_type": "code",
   "execution_count": 11,
   "metadata": {},
   "outputs": [
    {
     "data": {
      "text/html": [
       "<div>\n",
       "<style scoped>\n",
       "    .dataframe tbody tr th:only-of-type {\n",
       "        vertical-align: middle;\n",
       "    }\n",
       "\n",
       "    .dataframe tbody tr th {\n",
       "        vertical-align: top;\n",
       "    }\n",
       "\n",
       "    .dataframe thead th {\n",
       "        text-align: right;\n",
       "    }\n",
       "</style>\n",
       "<table border=\"1\" class=\"dataframe\">\n",
       "  <thead>\n",
       "    <tr style=\"text-align: right;\">\n",
       "      <th></th>\n",
       "      <th>Category</th>\n",
       "      <th>Item Description</th>\n",
       "      <th>category_id</th>\n",
       "    </tr>\n",
       "  </thead>\n",
       "  <tbody>\n",
       "    <tr>\n",
       "      <th>0</th>\n",
       "      <td>Services/Hacking</td>\n",
       "      <td>12 Month HuluPlus gift Code 12-Month HuluPlus ...</td>\n",
       "      <td>0</td>\n",
       "    </tr>\n",
       "    <tr>\n",
       "      <th>1</th>\n",
       "      <td>Services/Hacking</td>\n",
       "      <td>Pay TV Sky UK  Sky Germany HD TV  and much mor...</td>\n",
       "      <td>0</td>\n",
       "    </tr>\n",
       "    <tr>\n",
       "      <th>2</th>\n",
       "      <td>Services/Hacking</td>\n",
       "      <td>OFFICIAL Account Creator Extreme 4.2 Tagged Su...</td>\n",
       "      <td>0</td>\n",
       "    </tr>\n",
       "    <tr>\n",
       "      <th>3</th>\n",
       "      <td>Services/Hacking</td>\n",
       "      <td>VPN &gt; TOR &gt; SOCK TUTORIAL How to setup a VPN &gt;...</td>\n",
       "      <td>0</td>\n",
       "    </tr>\n",
       "    <tr>\n",
       "      <th>4</th>\n",
       "      <td>Services/Hacking</td>\n",
       "      <td>Facebook hacking guide .  This guide will teac...</td>\n",
       "      <td>0</td>\n",
       "    </tr>\n",
       "    <tr>\n",
       "      <th>...</th>\n",
       "      <td>...</td>\n",
       "      <td>...</td>\n",
       "      <td>...</td>\n",
       "    </tr>\n",
       "    <tr>\n",
       "      <th>109585</th>\n",
       "      <td>Drugs/Opioids/Opium</td>\n",
       "      <td>1 gr purified Opium This Listing is for a gram...</td>\n",
       "      <td>95</td>\n",
       "    </tr>\n",
       "    <tr>\n",
       "      <th>109586</th>\n",
       "      <td>Weapons/Fireworks</td>\n",
       "      <td>Shipping Ticket in order for me to ship one of...</td>\n",
       "      <td>99</td>\n",
       "    </tr>\n",
       "    <tr>\n",
       "      <th>109587</th>\n",
       "      <td>Drugs/Opioids/Opium</td>\n",
       "      <td>0.50 GRAMS #4  White Afghani Heroin - FULL ESC...</td>\n",
       "      <td>95</td>\n",
       "    </tr>\n",
       "    <tr>\n",
       "      <th>109588</th>\n",
       "      <td>Drugs/Opioids/Opium</td>\n",
       "      <td>1.0 GRAMS #4 White Afghani Heroin - FULL ESCRO...</td>\n",
       "      <td>95</td>\n",
       "    </tr>\n",
       "    <tr>\n",
       "      <th>109589</th>\n",
       "      <td>Drugs/Opioids/Opium</td>\n",
       "      <td>HEROIN STAMP BAG (10pcs) BUNDLE HEROIN  STAMP ...</td>\n",
       "      <td>95</td>\n",
       "    </tr>\n",
       "  </tbody>\n",
       "</table>\n",
       "<p>109563 rows × 3 columns</p>\n",
       "</div>"
      ],
      "text/plain": [
       "                   Category  \\\n",
       "0          Services/Hacking   \n",
       "1          Services/Hacking   \n",
       "2          Services/Hacking   \n",
       "3          Services/Hacking   \n",
       "4          Services/Hacking   \n",
       "...                     ...   \n",
       "109585  Drugs/Opioids/Opium   \n",
       "109586    Weapons/Fireworks   \n",
       "109587  Drugs/Opioids/Opium   \n",
       "109588  Drugs/Opioids/Opium   \n",
       "109589  Drugs/Opioids/Opium   \n",
       "\n",
       "                                         Item Description  category_id  \n",
       "0       12 Month HuluPlus gift Code 12-Month HuluPlus ...            0  \n",
       "1       Pay TV Sky UK  Sky Germany HD TV  and much mor...            0  \n",
       "2       OFFICIAL Account Creator Extreme 4.2 Tagged Su...            0  \n",
       "3       VPN > TOR > SOCK TUTORIAL How to setup a VPN >...            0  \n",
       "4       Facebook hacking guide .  This guide will teac...            0  \n",
       "...                                                   ...          ...  \n",
       "109585  1 gr purified Opium This Listing is for a gram...           95  \n",
       "109586  Shipping Ticket in order for me to ship one of...           99  \n",
       "109587  0.50 GRAMS #4  White Afghani Heroin - FULL ESC...           95  \n",
       "109588  1.0 GRAMS #4 White Afghani Heroin - FULL ESCRO...           95  \n",
       "109589  HEROIN STAMP BAG (10pcs) BUNDLE HEROIN  STAMP ...           95  \n",
       "\n",
       "[109563 rows x 3 columns]"
      ]
     },
     "execution_count": 11,
     "metadata": {},
     "output_type": "execute_result"
    }
   ],
   "source": [
    "import pandas as pd\n",
    "from preprocessing import PreProcessor\n",
    "\n",
    "pp = PreProcessor()\n",
    "\n",
    "df = pd.read_csv('Structured_DataFrame.csv', index_col=0)\n",
    "df['Item Description'] = df['Item Description'].apply(lambda d: pp.preprocess(str(d)))\n",
    "df"
   ]
  },
  {
   "cell_type": "markdown",
   "metadata": {},
   "source": [
    "## Vectorizing"
   ]
  },
  {
   "cell_type": "code",
   "execution_count": 2,
   "metadata": {},
   "outputs": [
    {
     "data": {
      "text/plain": [
       "<109563x102238 sparse matrix of type '<class 'numpy.float64'>'\n",
       "\twith 3414110 stored elements in Compressed Sparse Row format>"
      ]
     },
     "execution_count": 2,
     "metadata": {},
     "output_type": "execute_result"
    }
   ],
   "source": [
    "from sklearn.feature_extraction.text import TfidfVectorizer\n",
    "\n",
    "tfidf = TfidfVectorizer(sublinear_tf=True, min_df=5, norm='l2', encoding='latin-1', ngram_range=(1, 2))\n",
    "features = tfidf.fit_transform(df['Item Description'])\n",
    "labels = df.Category\n",
    "\n",
    "features"
   ]
  },
  {
   "cell_type": "markdown",
   "metadata": {},
   "source": [
    "## Splitting"
   ]
  },
  {
   "cell_type": "code",
   "execution_count": 3,
   "metadata": {},
   "outputs": [
    {
     "data": {
      "text/plain": [
       "<73407x102238 sparse matrix of type '<class 'numpy.float64'>'\n",
       "\twith 2286840 stored elements in Compressed Sparse Row format>"
      ]
     },
     "execution_count": 3,
     "metadata": {},
     "output_type": "execute_result"
    }
   ],
   "source": [
    "from sklearn.model_selection import train_test_split\n",
    "\n",
    "X_train, X_test, y_train, y_test, indices_train, indices_test = train_test_split(features, labels, df.index, test_size=0.33, random_state=0)\n",
    "\n",
    "X_train"
   ]
  },
  {
   "cell_type": "markdown",
   "metadata": {},
   "source": [
    "## Creating the model\n",
    "Compared to the part 1 MLP, I decreased the tolerance and max_iter so the model would stop earlier, because this one trains a lot slower due to the larger amount of data."
   ]
  },
  {
   "cell_type": "code",
   "execution_count": 4,
   "metadata": {},
   "outputs": [
    {
     "data": {
      "text/plain": [
       "MLPClassifier(activation='relu', alpha=0.001, batch_size='auto', beta_1=0.9,\n",
       "       beta_2=0.999, early_stopping=False, epsilon=1e-08,\n",
       "       hidden_layer_sizes=(100, 100, 100), learning_rate='constant',\n",
       "       learning_rate_init=0.001, max_iter=250, momentum=0.9,\n",
       "       n_iter_no_change=10, nesterovs_momentum=True, power_t=0.5,\n",
       "       random_state=21, shuffle=True, solver='adam', tol=1e-06,\n",
       "       validation_fraction=0.1, verbose=1, warm_start=False)"
      ]
     },
     "execution_count": 4,
     "metadata": {},
     "output_type": "execute_result"
    }
   ],
   "source": [
    "from sklearn.neural_network import MLPClassifier\n",
    "from sklearn.metrics import accuracy_score\n",
    "from sklearn.metrics import confusion_matrix\n",
    "\n",
    "clf = MLPClassifier(hidden_layer_sizes=(100,100,100), max_iter=250, learning_rate='constant', \n",
    "                     alpha=0.001, solver='adam', verbose=1, random_state=21, tol=0.000001)\n",
    "clf"
   ]
  },
  {
   "cell_type": "markdown",
   "metadata": {},
   "source": [
    "## Training the model"
   ]
  },
  {
   "cell_type": "code",
   "execution_count": 5,
   "metadata": {
    "scrolled": false
   },
   "outputs": [
    {
     "name": "stdout",
     "output_type": "stream",
     "text": [
      "Iteration 1, loss = 1.81068031\n",
      "Iteration 2, loss = 0.48601362\n",
      "Iteration 3, loss = 0.28444859\n",
      "Iteration 4, loss = 0.20646923\n",
      "Iteration 5, loss = 0.16752440\n",
      "Iteration 6, loss = 0.14723848\n",
      "Iteration 7, loss = 0.13436415\n",
      "Iteration 8, loss = 0.12439004\n",
      "Iteration 9, loss = 0.11776405\n",
      "Iteration 10, loss = 0.11191035\n",
      "Iteration 11, loss = 0.11150976\n",
      "Iteration 12, loss = 0.10616616\n",
      "Iteration 13, loss = 0.10416760\n",
      "Iteration 14, loss = 0.10389447\n",
      "Iteration 15, loss = 0.10089518\n",
      "Iteration 16, loss = 0.09882466\n",
      "Iteration 17, loss = 0.09889388\n",
      "Iteration 18, loss = 0.09772019\n",
      "Iteration 19, loss = 0.09524186\n",
      "Iteration 20, loss = 0.09523919\n",
      "Iteration 21, loss = 0.09246504\n",
      "Iteration 22, loss = 0.09121879\n",
      "Iteration 23, loss = 0.09016739\n",
      "Iteration 24, loss = 0.08947715\n",
      "Iteration 25, loss = 0.08912988\n",
      "Iteration 26, loss = 0.08657549\n",
      "Iteration 27, loss = 0.08820899\n",
      "Iteration 28, loss = 0.08731996\n",
      "Iteration 29, loss = 0.08418626\n",
      "Iteration 30, loss = 0.08392516\n",
      "Iteration 31, loss = 0.08212144\n",
      "Iteration 32, loss = 0.08258107\n",
      "Iteration 33, loss = 0.08247456\n",
      "Iteration 34, loss = 0.08279309\n",
      "Iteration 35, loss = 0.08155439\n",
      "Iteration 36, loss = 0.07947460\n",
      "Iteration 37, loss = 0.07771187\n",
      "Iteration 38, loss = 0.07889532\n",
      "Iteration 39, loss = 0.07821813\n",
      "Iteration 40, loss = 0.07641792\n",
      "Iteration 41, loss = 0.07936227\n",
      "Iteration 42, loss = 0.07649751\n",
      "Iteration 43, loss = 0.07877036\n",
      "Iteration 44, loss = 0.07751905\n",
      "Iteration 45, loss = 0.07876561\n",
      "Iteration 46, loss = 0.07458078\n",
      "Iteration 47, loss = 0.07430342\n",
      "Iteration 48, loss = 0.07256782\n",
      "Iteration 49, loss = 0.07492232\n",
      "Iteration 50, loss = 0.07508391\n",
      "Iteration 51, loss = 0.07208470\n",
      "Iteration 52, loss = 0.07672385\n",
      "Iteration 53, loss = 0.07336804\n",
      "Iteration 54, loss = 0.07137092\n",
      "Iteration 55, loss = 0.07258283\n",
      "Iteration 56, loss = 0.07362787\n",
      "Iteration 57, loss = 0.07135055\n",
      "Iteration 58, loss = 0.07281954\n",
      "Iteration 59, loss = 0.07209699\n",
      "Iteration 60, loss = 0.07071433\n",
      "Iteration 61, loss = 0.06909466\n",
      "Iteration 62, loss = 0.07015417\n",
      "Iteration 63, loss = 0.07040753\n",
      "Iteration 64, loss = 0.07002501\n",
      "Iteration 65, loss = 0.06916151\n",
      "Iteration 66, loss = 0.07105859\n",
      "Iteration 67, loss = 0.07020730\n",
      "Iteration 68, loss = 0.06771413\n",
      "Iteration 69, loss = 0.06811243\n",
      "Iteration 70, loss = 0.06499593\n",
      "Iteration 71, loss = 0.06876688\n",
      "Iteration 72, loss = 0.06981642\n",
      "Iteration 73, loss = 0.06794367\n",
      "Iteration 74, loss = 0.07283848\n",
      "Iteration 75, loss = 0.06881791\n",
      "Iteration 76, loss = 0.06447857\n",
      "Iteration 77, loss = 0.06238161\n",
      "Iteration 78, loss = 0.06328309\n",
      "Iteration 79, loss = 0.06380686\n",
      "Iteration 80, loss = 0.06493542\n",
      "Iteration 81, loss = 0.06545335\n",
      "Iteration 82, loss = 0.06551994\n",
      "Iteration 83, loss = 0.06444208\n",
      "Iteration 84, loss = 0.06427309\n",
      "Iteration 85, loss = 0.06572725\n",
      "Iteration 86, loss = 0.06572162\n",
      "Iteration 87, loss = 0.06463472\n",
      "Iteration 88, loss = 0.06269351\n",
      "Training loss did not improve more than tol=0.000001 for 10 consecutive epochs. Stopping.\n"
     ]
    },
    {
     "data": {
      "text/plain": [
       "MLPClassifier(activation='relu', alpha=0.001, batch_size='auto', beta_1=0.9,\n",
       "       beta_2=0.999, early_stopping=False, epsilon=1e-08,\n",
       "       hidden_layer_sizes=(100, 100, 100), learning_rate='constant',\n",
       "       learning_rate_init=0.001, max_iter=250, momentum=0.9,\n",
       "       n_iter_no_change=10, nesterovs_momentum=True, power_t=0.5,\n",
       "       random_state=21, shuffle=True, solver='adam', tol=1e-06,\n",
       "       validation_fraction=0.1, verbose=1, warm_start=False)"
      ]
     },
     "execution_count": 5,
     "metadata": {},
     "output_type": "execute_result"
    }
   ],
   "source": [
    "clf.fit(X_train, y_train)"
   ]
  },
  {
   "cell_type": "markdown",
   "metadata": {},
   "source": [
    "## Validating the model"
   ]
  },
  {
   "cell_type": "code",
   "execution_count": 6,
   "metadata": {},
   "outputs": [],
   "source": [
    "y_pred = clf.predict(X_test)"
   ]
  },
  {
   "cell_type": "code",
   "execution_count": 7,
   "metadata": {},
   "outputs": [
    {
     "data": {
      "text/plain": [
       "0.8742670649408121"
      ]
     },
     "execution_count": 7,
     "metadata": {},
     "output_type": "execute_result"
    }
   ],
   "source": [
    "accuracy_score(y_test, y_pred)"
   ]
  },
  {
   "cell_type": "markdown",
   "metadata": {},
   "source": [
    "## Save the model"
   ]
  },
  {
   "cell_type": "code",
   "execution_count": 1,
   "metadata": {},
   "outputs": [
    {
     "ename": "NameError",
     "evalue": "name 'clf' is not defined",
     "output_type": "error",
     "traceback": [
      "\u001b[0;31m---------------------------------------------------------------------------\u001b[0m",
      "\u001b[0;31mNameError\u001b[0m                                 Traceback (most recent call last)",
      "\u001b[0;32m<ipython-input-1-953bd5b3703d>\u001b[0m in \u001b[0;36m<module>\u001b[0;34m()\u001b[0m\n\u001b[1;32m      2\u001b[0m \u001b[0;34m\u001b[0m\u001b[0m\n\u001b[1;32m      3\u001b[0m \u001b[0mfilename\u001b[0m \u001b[0;34m=\u001b[0m \u001b[0;34m'MLP_All_Model.sav'\u001b[0m\u001b[0;34m\u001b[0m\u001b[0;34m\u001b[0m\u001b[0m\n\u001b[0;32m----> 4\u001b[0;31m \u001b[0mpickle\u001b[0m\u001b[0;34m.\u001b[0m\u001b[0mdump\u001b[0m\u001b[0;34m(\u001b[0m\u001b[0mclf\u001b[0m\u001b[0;34m,\u001b[0m \u001b[0mopen\u001b[0m\u001b[0;34m(\u001b[0m\u001b[0mfilename\u001b[0m\u001b[0;34m,\u001b[0m \u001b[0;34m'wb'\u001b[0m\u001b[0;34m)\u001b[0m\u001b[0;34m)\u001b[0m\u001b[0;34m\u001b[0m\u001b[0;34m\u001b[0m\u001b[0m\n\u001b[0m\u001b[1;32m      5\u001b[0m \u001b[0;34m\u001b[0m\u001b[0m\n\u001b[1;32m      6\u001b[0m \u001b[0;31m# load the model from disk\u001b[0m\u001b[0;34m\u001b[0m\u001b[0;34m\u001b[0m\u001b[0;34m\u001b[0m\u001b[0m\n",
      "\u001b[0;31mNameError\u001b[0m: name 'clf' is not defined"
     ]
    }
   ],
   "source": [
    "import pickle\n",
    "\n",
    "filename = 'MLP_All_Model.sav'\n",
    "pickle.dump(clf, open(filename, 'wb'))\n",
    "\n",
    "# load the model from disk\n",
    "loaded_model = pickle.load(open(filename, 'rb'))\n",
    "result = loaded_model.score(X_test, y_test)\n",
    "print(result)"
   ]
  },
  {
   "cell_type": "markdown",
   "metadata": {},
   "source": [
    "## Conclusion\n",
    "The model performs quite well on the dataset. In notebook 21 I will compare some scores of the entire dataset and main categories to this one and other methods."
   ]
  },
  {
   "cell_type": "code",
   "execution_count": null,
   "metadata": {},
   "outputs": [],
   "source": []
  }
 ],
 "metadata": {
  "kernelspec": {
   "display_name": "Python 3",
   "language": "python",
   "name": "python3"
  },
  "language_info": {
   "codemirror_mode": {
    "name": "ipython",
    "version": 3
   },
   "file_extension": ".py",
   "mimetype": "text/x-python",
   "name": "python",
   "nbconvert_exporter": "python",
   "pygments_lexer": "ipython3",
   "version": "3.6.8"
  }
 },
 "nbformat": 4,
 "nbformat_minor": 2
}
